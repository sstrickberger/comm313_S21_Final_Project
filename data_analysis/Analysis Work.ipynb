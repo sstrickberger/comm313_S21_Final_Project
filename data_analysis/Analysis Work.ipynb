{
 "cells": [
  {
   "cell_type": "markdown",
   "metadata": {},
   "source": [
    "# Analysis Work\n",
    "\n",
    "* In this notebook, I will analyze the data that I have already scraped, downloaded, and cleaned.\n",
    "* In particular, I will run three main tests in order to prove or reject the main hypotheses of the literature.\n",
    "* My hypotheses: Scholars argue that Black abolitionist rhetoric became (1) more civic-oriented and nationalistic, (2) increasingly focused on self-identification, and (3) progressively more demanding after the year 1840. \n",
    "* My tests: I tested each of these in turn. For the first two, I employed frequency tests and keyness analysis to understand which time period employed more terms relating to Black nationalism and Black identity. I also used a key word in context (KWIC) analysis to test for external validity. For testing whether the rhetoric became more demanding, I utilized VADER (Valence Aware Dictionary for Sentiment Reasoning) sentiment analysis. I found and compared the average sentiments score of each corpus. Once again, I employed KWIC analysis to test whether there was external validity in my results."
   ]
  },
  {
   "cell_type": "markdown",
   "metadata": {},
   "source": [
    "## Set up notebook"
   ]
  },
  {
   "cell_type": "code",
   "execution_count": 5,
   "metadata": {},
   "outputs": [],
   "source": [
    "import os\n",
    "  \n",
    "import matplotlib.pyplot as plt\n",
    "from collections import Counter\n",
    "import json\n",
    "import pickle\n",
    "\n",
    "import re\n",
    "import pandas as pd\n",
    "import numpy as np\n",
    "import matplotlib.pyplot as plt\n",
    "\n",
    "import random\n",
    "\n",
    "from nltk import tokenize\n",
    "from nltk.sentiment.vader import SentimentIntensityAnalyzer\n",
    "\n",
    "import seaborn as sns"
   ]
  },
  {
   "cell_type": "code",
   "execution_count": 6,
   "metadata": {},
   "outputs": [],
   "source": [
    "os.chdir('/Commjhub/jupyterhub/comm318_fall2019/sstrickberger/comm313_S21/comm313_S21_Final_Project')"
   ]
  },
  {
   "cell_type": "code",
   "execution_count": 7,
   "metadata": {},
   "outputs": [
    {
     "data": {
      "text/plain": [
       "'/Commjhub/jupyterhub/comm318_fall2019/sstrickberger/comm313_S21/comm313_S21_Final_Project'"
      ]
     },
     "execution_count": 7,
     "metadata": {},
     "output_type": "execute_result"
    }
   ],
   "source": [
    "os.getcwd()"
   ]
  },
  {
   "cell_type": "code",
   "execution_count": 8,
   "metadata": {},
   "outputs": [],
   "source": [
    "%run data_analysis/functions.ipynb"
   ]
  },
  {
   "cell_type": "code",
   "execution_count": 19,
   "metadata": {},
   "outputs": [],
   "source": [
    "#Let's load in our saved lists from the clean corpus"
   ]
  },
  {
   "cell_type": "code",
   "execution_count": 9,
   "metadata": {},
   "outputs": [],
   "source": [
    "file_placeholder = open('data/clean/clean_pages_post_1840', 'rb')"
   ]
  },
  {
   "cell_type": "code",
   "execution_count": 10,
   "metadata": {},
   "outputs": [],
   "source": [
    "clean_pages_post_1840 = pickle.load(file_placeholder)"
   ]
  },
  {
   "cell_type": "code",
   "execution_count": 11,
   "metadata": {},
   "outputs": [],
   "source": [
    "file_placeholder_2 = open('data/clean/clean_pages_pre_1840', 'rb')"
   ]
  },
  {
   "cell_type": "code",
   "execution_count": 12,
   "metadata": {},
   "outputs": [],
   "source": [
    "clean_pages_pre_1840 = pickle.load(file_placeholder_2)"
   ]
  },
  {
   "cell_type": "code",
   "execution_count": 13,
   "metadata": {},
   "outputs": [
    {
     "data": {
      "text/plain": [
       "[' portunities that others have for acquiring an educa- ',\n",
       " 'tion, and how many can know nothing but what their  ',\n",
       " '',\n",
       " 'fathers and mothers teach them.  Except from their  ',\n",
       " '',\n",
       " 'parents, they can learn nothing.  Oh! then let parents  ',\n",
       " '',\n",
       " 'be faithful, and lay before them the nature of slavery,  ',\n",
       " '',\n",
       " 'and teach them to strive against it.  Do not let the  ',\n",
       " '',\n",
       " 'influence of this assembly fall dead here.  Let it go  ',\n",
       " '',\n",
       " 'out against that dreadful system.  Scarcely has the  ',\n",
       " 'dawn of effort begun.  It seems but yesterday that we  ',\n",
       " 'first heard of these efforts, and yet what progress!   ',\n",
       " '',\n",
       " 'And should we not rejoice?  Should we not come  ',\n",
       " '',\n",
       " 'together to be glad, and to form good resolutions?  I  ',\n",
       " '',\n",
       " 'hope the next speaker may be able to say more to  ',\n",
       " '',\n",
       " 'strengthen you to do the things that are right, in be- ',\n",
       " '',\n",
       " 'half of our brethren under the lash.  I am grieved  ',\n",
       " '',\n",
       " 'when I see apathy among us.  It sometimes seems as  ',\n",
       " '',\n",
       " 'if we were afraid to move or to speak or to look.  But  ',\n",
       " 'we ought to be all eye ',\n",
       " ' all voice ',\n",
       " ' all hand.  Amer- ',\n",
       " 'ica was wholly moved for the Pole ',\n",
       " ' then how ought  ',\n",
       " 'we as a people to feel!  We came here to-day to show  ',\n",
       " 'how we feel for our enslaved fellow-men, and to  ',\n",
       " 'show our opposers that we feel how much their re- ',\n",
       " '',\n",
       " 'demption depends upon us.']"
      ]
     },
     "execution_count": 13,
     "metadata": {},
     "output_type": "execute_result"
    }
   ],
   "source": [
    "#take a look at a page\n",
    "\n",
    "clean_pages_pre_1840[1]"
   ]
  },
  {
   "cell_type": "markdown",
   "metadata": {},
   "source": [
    "## Frequency analyses: monograms, bigrams, trigrams\n",
    "\n",
    "* I broke down each corpus -- pre and post 1840 writings -- into their 25 most common monograms, bigrams, trigrams.\n",
    "* I ran this as a preliminary analysis to better understand the most common words and phrases of each corpus.\n",
    "* Some key findings are below\n"
   ]
  },
  {
   "cell_type": "markdown",
   "metadata": {},
   "source": [
    "### Pre-1840 Frequency analyses (monograms, bigrams, trigrams)\n",
    "Key findings: \n",
    "* These corpus has a big emphasis, at least among the trigrams, on self identification. This challenges my initial hypothesis.\n",
    "* The \"we\" is important in the monograms. These are black abolitionists fighting for their own freedom. They seek to be self-reliant and were in many ways, despite the overwhelming pop-notion that the abolitionist movement only contained wealthy white individuals\n"
   ]
  },
  {
   "cell_type": "code",
   "execution_count": 25,
   "metadata": {},
   "outputs": [
    {
     "name": "stdout",
     "output_type": "stream",
     "text": [
      "Pre-1840 TRIGRAMS: [('people of color', 56), ('the cause of', 55), ('the people of', 54), ('the united states', 53), ('committee of vigilance', 40), ('of the colored', 39), ('the rights of', 33), ('of the people', 33), ('the colonization society', 32), ('the colored man', 32), ('one of the', 31), ('the colored american', 31), ('in relation to', 29), ('of the committee', 29), ('the libel suit', 28), ('in this country', 27), ('the spirit of', 26), ('in behalf of', 26), ('as well as', 25), ('of the american', 25), ('of the most', 24), ('in the united', 24), ('relation to the', 23), ('of the free', 23), ('some of the', 22)]\n",
      "BIGRAMS: [('of the', 1364), ('in the', 640), ('to the', 586), ('and the', 310), ('it is', 273), ('for the', 253), ('to be', 236), ('of our', 231), ('on the', 217), ('that the', 194), ('from the', 183), ('by the', 181), ('with the', 164), ('of a', 163), ('in this', 153), ('have been', 147), ('of his', 146), ('of this', 137), ('at the', 133), ('we are', 121), ('of their', 116), ('is the', 114), ('has been', 112), ('we have', 111), ('i have', 109)]\n",
      "MONOGRAMS: [('the', 8208), ('of', 5625), ('and', 4215), ('to', 3818), ('in', 2342), ('a', 1883), ('that', 1716), ('is', 1219), ('i', 1112), ('it', 1106), ('for', 995), ('we', 950), ('be', 937), ('our', 913), ('not', 850), ('this', 838), ('he', 833), ('have', 818), ('as', 807), ('are', 801), ('his', 794), ('with', 769), ('they', 764), ('was', 706), ('but', 698)]\n"
     ]
    }
   ],
   "source": [
    "characters_to_strip = '().[]!,\"'\n",
    "\n",
    "# frequencies for pre 1840\n",
    "\n",
    "pages_list_pre_1840 = str()\n",
    "for page_num in range(len(clean_pages_pre_1840)):\n",
    "    new_page = ''.join(clean_pages_pre_1840[page_num])\n",
    "    pages_list_pre_1840 = pages_list_pre_1840 + new_page\n",
    "\n",
    "tokens = tokenize(pages_list_pre_1840, True, characters_to_strip)\n",
    "\n",
    "monograms = get_ngram_tokens(tokens, 1)\n",
    "\n",
    "bigrams = get_ngram_tokens(tokens, 2)\n",
    "\n",
    "trigrams = get_ngram_tokens(tokens, 3)\n",
    "\n",
    "\n",
    "trigram_dist = Counter()\n",
    "trigram_dist.update(trigrams)\n",
    "\n",
    "bigram_dist = Counter()\n",
    "bigram_dist.update(bigrams)\n",
    "\n",
    "monogram_dist = Counter()\n",
    "monogram_dist.update(monograms)\n",
    "\n",
    "print('Pre-1840 TRIGRAMS:', trigram_dist.most_common(25))\n",
    "print('BIGRAMS:', bigram_dist.most_common(25))\n",
    "print('MONOGRAMS:', monogram_dist.most_common(25))"
   ]
  },
  {
   "cell_type": "markdown",
   "metadata": {},
   "source": [
    "### Pre-1840 Frequency analyses (monograms, bigrams, trigrams)\n",
    "Key findings: \n",
    "* These corpus has a big emphasis, at least among the trigrams, on civic minded rhetoric. For example, the most common three include: \"('the united states', 358), ('in this country', 177), ('of the united', 173).\" This confirms my initial hypothesis.\n",
    "* It is interesting that \"we\" is missing in the top 25 most common monograms of this corpus. Perhaps, the authors were more focused on talking about \"the black man\" or the \"colored people\" in the third person, then in the first person."
   ]
  },
  {
   "cell_type": "code",
   "execution_count": 26,
   "metadata": {
    "scrolled": true
   },
   "outputs": [
    {
     "name": "stdout",
     "output_type": "stream",
     "text": [
      "TRIGRAMS: [('the united states', 358), ('in this country', 177), ('of the united', 173), ('one of the', 168), ('of the slave', 140), ('in the united', 135), ('the cause of', 122), ('of the country', 120), ('as well as', 115), ('the people of', 114), ('the black man', 114), ('of the american', 113), ('he did not', 108), ('the colored people', 104), ('the coloured people', 91), ('i do not', 91), ('of the colored', 88), ('the colored man', 88), ('of the free', 86), ('of the world', 86), ('of the most', 86), ('the state of', 85), ('that he was', 85), ('the history of', 85), ('people of the', 84)]\n",
      "BIGRAMS: [('of the', 6406), ('in the', 3195), ('to the', 2353), ('and the', 1439), ('to be', 1150), ('for the', 1005), ('by the', 1003), ('that the', 1001), ('on the', 898), ('it is', 884), ('from the', 808), ('with the', 769), ('it was', 740), ('of his', 690), ('of a', 688), ('in this', 643), ('he was', 632), ('of this', 619), ('at the', 552), ('of our', 544), ('he had', 533), ('of their', 485), ('have been', 469), ('they were', 468), ('that he', 458)]\n",
      "MONOGRAMS: [('the', 38242), ('of', 23881), ('and', 19214), ('to', 16358), ('in', 11449), ('a', 8953), ('that', 7959), ('he', 5792), ('was', 5009), ('it', 4630), ('is', 4573), ('i', 4183), ('for', 4165), ('as', 3971), ('be', 3894), ('not', 3765), ('this', 3748), ('his', 3746), ('they', 3457), ('by', 3433), ('with', 3423), ('have', 2991), ('their', 2974), ('which', 2970), ('but', 2963)]\n"
     ]
    }
   ],
   "source": [
    "\n",
    "#frequencies for post 1840\n",
    "\n",
    "pages_list_post_1840 = str()\n",
    "range_post = len(clean_pages_post_1840)\n",
    "\n",
    "for page_num in range(range_post):\n",
    "    new_page = ''.join(clean_pages_post_1840[page_num])\n",
    "    pages_list_post_1840 = pages_list_post_1840 + new_page\n",
    "\n",
    "tokens_post = tokenize(pages_list_post_1840, True, characters_to_strip)\n",
    "\n",
    "monograms_post = get_ngram_tokens(tokens_post, 1)\n",
    "\n",
    "bigrams_post = get_ngram_tokens(tokens_post, 2)\n",
    "\n",
    "trigrams_post = get_ngram_tokens(tokens_post, 3)\n",
    "\n",
    "\n",
    "trigram_dist_post = Counter()\n",
    "trigram_dist_post.update(trigrams_post)\n",
    "\n",
    "bigram_dist_post = Counter()\n",
    "bigram_dist_post.update(bigrams_post)\n",
    "\n",
    "monogram_dist_post = Counter()\n",
    "monogram_dist_post.update(monograms_post)\n",
    "\n",
    "print('TRIGRAMS:', trigram_dist_post.most_common(25))\n",
    "print('BIGRAMS:', bigram_dist_post.most_common(25))\n",
    "print('MONOGRAMS:', monogram_dist_post.most_common(25))"
   ]
  },
  {
   "cell_type": "code",
   "execution_count": null,
   "metadata": {},
   "outputs": [],
   "source": []
  },
  {
   "cell_type": "code",
   "execution_count": 27,
   "metadata": {},
   "outputs": [
    {
     "data": {
      "text/plain": [
       "[('the', 38242),\n",
       " ('of', 23881),\n",
       " ('and', 19214),\n",
       " ('to', 16358),\n",
       " ('in', 11449),\n",
       " ('a', 8953),\n",
       " ('that', 7959),\n",
       " ('he', 5792),\n",
       " ('was', 5009),\n",
       " ('it', 4630),\n",
       " ('is', 4573),\n",
       " ('i', 4183),\n",
       " ('for', 4165),\n",
       " ('as', 3971),\n",
       " ('be', 3894),\n",
       " ('not', 3765),\n",
       " ('this', 3748),\n",
       " ('his', 3746),\n",
       " ('they', 3457),\n",
       " ('by', 3433),\n",
       " ('with', 3423),\n",
       " ('have', 2991),\n",
       " ('their', 2974),\n",
       " ('which', 2970),\n",
       " ('but', 2963)]"
      ]
     },
     "execution_count": 27,
     "metadata": {},
     "output_type": "execute_result"
    }
   ],
   "source": [
    "monogram_dist_post.most_common(25)"
   ]
  },
  {
   "cell_type": "code",
   "execution_count": 28,
   "metadata": {},
   "outputs": [
    {
     "data": {
      "text/plain": [
       "'in this country'"
      ]
     },
     "execution_count": 28,
     "metadata": {},
     "output_type": "execute_result"
    }
   ],
   "source": [
    "trigram_dist_post.most_common(25)[1][0]"
   ]
  },
  {
   "cell_type": "code",
   "execution_count": 29,
   "metadata": {},
   "outputs": [],
   "source": [
    "#calculate_keyness(monogram_dist, monogram_dist_post)"
   ]
  },
  {
   "cell_type": "markdown",
   "metadata": {},
   "source": [
    "### Data visualization: I'm going to organize the trigrams into a chart for my final paper"
   ]
  },
  {
   "cell_type": "code",
   "execution_count": 30,
   "metadata": {},
   "outputs": [
    {
     "data": {
      "text/html": [
       "<div>\n",
       "<style scoped>\n",
       "    .dataframe tbody tr th:only-of-type {\n",
       "        vertical-align: middle;\n",
       "    }\n",
       "\n",
       "    .dataframe tbody tr th {\n",
       "        vertical-align: top;\n",
       "    }\n",
       "\n",
       "    .dataframe thead th {\n",
       "        text-align: right;\n",
       "    }\n",
       "</style>\n",
       "<table border=\"1\" class=\"dataframe\">\n",
       "  <thead>\n",
       "    <tr style=\"text-align: right;\">\n",
       "      <th></th>\n",
       "      <th>Post-1840 Rank</th>\n",
       "      <th>Trigram</th>\n",
       "    </tr>\n",
       "  </thead>\n",
       "  <tbody>\n",
       "    <tr>\n",
       "      <th>0</th>\n",
       "      <td>1</td>\n",
       "      <td>the united states</td>\n",
       "    </tr>\n",
       "    <tr>\n",
       "      <th>1</th>\n",
       "      <td>2</td>\n",
       "      <td>in this country</td>\n",
       "    </tr>\n",
       "    <tr>\n",
       "      <th>2</th>\n",
       "      <td>3</td>\n",
       "      <td>of the united</td>\n",
       "    </tr>\n",
       "    <tr>\n",
       "      <th>3</th>\n",
       "      <td>4</td>\n",
       "      <td>one of the</td>\n",
       "    </tr>\n",
       "    <tr>\n",
       "      <th>4</th>\n",
       "      <td>5</td>\n",
       "      <td>of the slave</td>\n",
       "    </tr>\n",
       "    <tr>\n",
       "      <th>5</th>\n",
       "      <td>6</td>\n",
       "      <td>in the united</td>\n",
       "    </tr>\n",
       "    <tr>\n",
       "      <th>6</th>\n",
       "      <td>7</td>\n",
       "      <td>the cause of</td>\n",
       "    </tr>\n",
       "    <tr>\n",
       "      <th>7</th>\n",
       "      <td>8</td>\n",
       "      <td>of the country</td>\n",
       "    </tr>\n",
       "    <tr>\n",
       "      <th>8</th>\n",
       "      <td>9</td>\n",
       "      <td>as well as</td>\n",
       "    </tr>\n",
       "    <tr>\n",
       "      <th>9</th>\n",
       "      <td>10</td>\n",
       "      <td>the people of</td>\n",
       "    </tr>\n",
       "    <tr>\n",
       "      <th>10</th>\n",
       "      <td>11</td>\n",
       "      <td>the black man</td>\n",
       "    </tr>\n",
       "    <tr>\n",
       "      <th>11</th>\n",
       "      <td>12</td>\n",
       "      <td>of the american</td>\n",
       "    </tr>\n",
       "    <tr>\n",
       "      <th>12</th>\n",
       "      <td>13</td>\n",
       "      <td>he did not</td>\n",
       "    </tr>\n",
       "    <tr>\n",
       "      <th>13</th>\n",
       "      <td>14</td>\n",
       "      <td>the colored people</td>\n",
       "    </tr>\n",
       "    <tr>\n",
       "      <th>14</th>\n",
       "      <td>15</td>\n",
       "      <td>the coloured people</td>\n",
       "    </tr>\n",
       "    <tr>\n",
       "      <th>15</th>\n",
       "      <td>16</td>\n",
       "      <td>i do not</td>\n",
       "    </tr>\n",
       "    <tr>\n",
       "      <th>16</th>\n",
       "      <td>17</td>\n",
       "      <td>of the colored</td>\n",
       "    </tr>\n",
       "    <tr>\n",
       "      <th>17</th>\n",
       "      <td>18</td>\n",
       "      <td>the colored man</td>\n",
       "    </tr>\n",
       "    <tr>\n",
       "      <th>18</th>\n",
       "      <td>19</td>\n",
       "      <td>of the free</td>\n",
       "    </tr>\n",
       "    <tr>\n",
       "      <th>19</th>\n",
       "      <td>20</td>\n",
       "      <td>of the world</td>\n",
       "    </tr>\n",
       "    <tr>\n",
       "      <th>20</th>\n",
       "      <td>21</td>\n",
       "      <td>of the most</td>\n",
       "    </tr>\n",
       "    <tr>\n",
       "      <th>21</th>\n",
       "      <td>22</td>\n",
       "      <td>the state of</td>\n",
       "    </tr>\n",
       "    <tr>\n",
       "      <th>22</th>\n",
       "      <td>23</td>\n",
       "      <td>that he was</td>\n",
       "    </tr>\n",
       "    <tr>\n",
       "      <th>23</th>\n",
       "      <td>24</td>\n",
       "      <td>the history of</td>\n",
       "    </tr>\n",
       "    <tr>\n",
       "      <th>24</th>\n",
       "      <td>25</td>\n",
       "      <td>people of the</td>\n",
       "    </tr>\n",
       "  </tbody>\n",
       "</table>\n",
       "</div>"
      ],
      "text/plain": [
       "    Post-1840 Rank              Trigram\n",
       "0                1    the united states\n",
       "1                2      in this country\n",
       "2                3        of the united\n",
       "3                4           one of the\n",
       "4                5         of the slave\n",
       "5                6        in the united\n",
       "6                7         the cause of\n",
       "7                8       of the country\n",
       "8                9           as well as\n",
       "9               10        the people of\n",
       "10              11        the black man\n",
       "11              12      of the american\n",
       "12              13           he did not\n",
       "13              14   the colored people\n",
       "14              15  the coloured people\n",
       "15              16             i do not\n",
       "16              17       of the colored\n",
       "17              18      the colored man\n",
       "18              19          of the free\n",
       "19              20         of the world\n",
       "20              21          of the most\n",
       "21              22         the state of\n",
       "22              23          that he was\n",
       "23              24       the history of\n",
       "24              25        people of the"
      ]
     },
     "execution_count": 30,
     "metadata": {},
     "output_type": "execute_result"
    }
   ],
   "source": [
    "\n",
    "#pull out post trigrams\n",
    "trigrams_25 = [trigram_dist_post.most_common(25)[X][0] for X in range(0,25)]\n",
    "\n",
    "post_political_trigram_data = {'Post-1840 Rank': range(1,26),\n",
    "                'Trigram': trigrams_25}\n",
    "\n",
    "post_political_trigram_data_frame = pd.DataFrame(post_political_trigram_data)\n",
    "post_political_trigram_data_frame"
   ]
  },
  {
   "cell_type": "code",
   "execution_count": 31,
   "metadata": {},
   "outputs": [
    {
     "data": {
      "text/html": [
       "<div>\n",
       "<style scoped>\n",
       "    .dataframe tbody tr th:only-of-type {\n",
       "        vertical-align: middle;\n",
       "    }\n",
       "\n",
       "    .dataframe tbody tr th {\n",
       "        vertical-align: top;\n",
       "    }\n",
       "\n",
       "    .dataframe thead th {\n",
       "        text-align: right;\n",
       "    }\n",
       "</style>\n",
       "<table border=\"1\" class=\"dataframe\">\n",
       "  <thead>\n",
       "    <tr style=\"text-align: right;\">\n",
       "      <th></th>\n",
       "      <th>Pre-1840 Rank</th>\n",
       "      <th>Trigram</th>\n",
       "    </tr>\n",
       "  </thead>\n",
       "  <tbody>\n",
       "    <tr>\n",
       "      <th>0</th>\n",
       "      <td>1</td>\n",
       "      <td>people of color</td>\n",
       "    </tr>\n",
       "    <tr>\n",
       "      <th>1</th>\n",
       "      <td>2</td>\n",
       "      <td>the cause of</td>\n",
       "    </tr>\n",
       "    <tr>\n",
       "      <th>2</th>\n",
       "      <td>3</td>\n",
       "      <td>the people of</td>\n",
       "    </tr>\n",
       "    <tr>\n",
       "      <th>3</th>\n",
       "      <td>4</td>\n",
       "      <td>the united states</td>\n",
       "    </tr>\n",
       "    <tr>\n",
       "      <th>4</th>\n",
       "      <td>5</td>\n",
       "      <td>committee of vigilance</td>\n",
       "    </tr>\n",
       "    <tr>\n",
       "      <th>5</th>\n",
       "      <td>6</td>\n",
       "      <td>of the colored</td>\n",
       "    </tr>\n",
       "    <tr>\n",
       "      <th>6</th>\n",
       "      <td>7</td>\n",
       "      <td>the rights of</td>\n",
       "    </tr>\n",
       "    <tr>\n",
       "      <th>7</th>\n",
       "      <td>8</td>\n",
       "      <td>of the people</td>\n",
       "    </tr>\n",
       "    <tr>\n",
       "      <th>8</th>\n",
       "      <td>9</td>\n",
       "      <td>the colonization society</td>\n",
       "    </tr>\n",
       "    <tr>\n",
       "      <th>9</th>\n",
       "      <td>10</td>\n",
       "      <td>the colored man</td>\n",
       "    </tr>\n",
       "    <tr>\n",
       "      <th>10</th>\n",
       "      <td>11</td>\n",
       "      <td>one of the</td>\n",
       "    </tr>\n",
       "    <tr>\n",
       "      <th>11</th>\n",
       "      <td>12</td>\n",
       "      <td>the colored american</td>\n",
       "    </tr>\n",
       "    <tr>\n",
       "      <th>12</th>\n",
       "      <td>13</td>\n",
       "      <td>in relation to</td>\n",
       "    </tr>\n",
       "    <tr>\n",
       "      <th>13</th>\n",
       "      <td>14</td>\n",
       "      <td>of the committee</td>\n",
       "    </tr>\n",
       "    <tr>\n",
       "      <th>14</th>\n",
       "      <td>15</td>\n",
       "      <td>the libel suit</td>\n",
       "    </tr>\n",
       "    <tr>\n",
       "      <th>15</th>\n",
       "      <td>16</td>\n",
       "      <td>in this country</td>\n",
       "    </tr>\n",
       "    <tr>\n",
       "      <th>16</th>\n",
       "      <td>17</td>\n",
       "      <td>the spirit of</td>\n",
       "    </tr>\n",
       "    <tr>\n",
       "      <th>17</th>\n",
       "      <td>18</td>\n",
       "      <td>in behalf of</td>\n",
       "    </tr>\n",
       "    <tr>\n",
       "      <th>18</th>\n",
       "      <td>19</td>\n",
       "      <td>as well as</td>\n",
       "    </tr>\n",
       "    <tr>\n",
       "      <th>19</th>\n",
       "      <td>20</td>\n",
       "      <td>of the american</td>\n",
       "    </tr>\n",
       "    <tr>\n",
       "      <th>20</th>\n",
       "      <td>21</td>\n",
       "      <td>of the most</td>\n",
       "    </tr>\n",
       "    <tr>\n",
       "      <th>21</th>\n",
       "      <td>22</td>\n",
       "      <td>in the united</td>\n",
       "    </tr>\n",
       "    <tr>\n",
       "      <th>22</th>\n",
       "      <td>23</td>\n",
       "      <td>relation to the</td>\n",
       "    </tr>\n",
       "    <tr>\n",
       "      <th>23</th>\n",
       "      <td>24</td>\n",
       "      <td>of the free</td>\n",
       "    </tr>\n",
       "    <tr>\n",
       "      <th>24</th>\n",
       "      <td>25</td>\n",
       "      <td>some of the</td>\n",
       "    </tr>\n",
       "  </tbody>\n",
       "</table>\n",
       "</div>"
      ],
      "text/plain": [
       "    Pre-1840 Rank                   Trigram\n",
       "0               1           people of color\n",
       "1               2              the cause of\n",
       "2               3             the people of\n",
       "3               4         the united states\n",
       "4               5    committee of vigilance\n",
       "5               6            of the colored\n",
       "6               7             the rights of\n",
       "7               8             of the people\n",
       "8               9  the colonization society\n",
       "9              10           the colored man\n",
       "10             11                one of the\n",
       "11             12      the colored american\n",
       "12             13            in relation to\n",
       "13             14          of the committee\n",
       "14             15            the libel suit\n",
       "15             16           in this country\n",
       "16             17             the spirit of\n",
       "17             18              in behalf of\n",
       "18             19                as well as\n",
       "19             20           of the american\n",
       "20             21               of the most\n",
       "21             22             in the united\n",
       "22             23           relation to the\n",
       "23             24               of the free\n",
       "24             25               some of the"
      ]
     },
     "execution_count": 31,
     "metadata": {},
     "output_type": "execute_result"
    }
   ],
   "source": [
    "#pull our pre trigrams\n",
    "trigrams_25_pre = [trigram_dist.most_common(25)[X][0] for X in range(0,25)]\n",
    "\n",
    "pre_political_trigram_data = {'Pre-1840 Rank': range(1,26),\n",
    "                'Trigram': trigrams_25_pre}\n",
    "\n",
    "pre_political_trigram_data_frame = pd.DataFrame(pre_political_trigram_data)\n",
    "pre_political_trigram_data_frame"
   ]
  },
  {
   "cell_type": "markdown",
   "metadata": {},
   "source": [
    "### Comparing trigram frequencies\n",
    "* Here I am comparing the trigram frequencies of key words related to civic engagement and nationalism. I want to get a better sense of how each corpus compares in this regard. \n",
    "\n",
    "Key findings:\n",
    "* In almost every category, civic and nationalist rhetoric is more common after 1840, even after a crude weighting system. (I multiplied the pre-1840 frequencies by 6 to make up for the difference in corpus size.)"
   ]
  },
  {
   "cell_type": "code",
   "execution_count": 32,
   "metadata": {},
   "outputs": [
    {
     "name": "stdout",
     "output_type": "stream",
     "text": [
      "the united states in pre: 318\n",
      "the united states in post: 358\n"
     ]
    }
   ],
   "source": [
    "print('the united states in pre:',trigram_dist['the united states']*6)\n",
    "print('the united states in post:', trigram_dist_post['the united states'])"
   ]
  },
  {
   "cell_type": "code",
   "execution_count": 33,
   "metadata": {},
   "outputs": [
    {
     "name": "stdout",
     "output_type": "stream",
     "text": [
      "in this country in pre: 162\n",
      "in this country in post: 177\n"
     ]
    }
   ],
   "source": [
    "print('in this country in pre:', trigram_dist['in this country']*6)\n",
    "print('in this country in post:', trigram_dist_post['in this country'])"
   ]
  },
  {
   "cell_type": "code",
   "execution_count": 34,
   "metadata": {},
   "outputs": [
    {
     "name": "stdout",
     "output_type": "stream",
     "text": [
      "nation in pre: 294\n",
      "nation in post: 326\n"
     ]
    }
   ],
   "source": [
    "print('nation in pre:', monogram_dist['nation']*6)\n",
    "print('nation in post:', monogram_dist_post['nation'])"
   ]
  },
  {
   "cell_type": "code",
   "execution_count": 35,
   "metadata": {},
   "outputs": [
    {
     "name": "stdout",
     "output_type": "stream",
     "text": [
      "n*gro usuage in pre: 30\n",
      "n*gro usage in post: 390\n"
     ]
    }
   ],
   "source": [
    "print('n*gro usuage in pre:', monogram_dist['negro']*6)\n",
    "print('n*gro usage in post:', monogram_dist_post['negro'])\n"
   ]
  },
  {
   "cell_type": "code",
   "execution_count": 36,
   "metadata": {},
   "outputs": [
    {
     "name": "stdout",
     "output_type": "stream",
     "text": [
      "colored in pre: 1302\n",
      "colored in post: 1333\n"
     ]
    }
   ],
   "source": [
    "print('colored in pre:', monogram_dist['colored']*6 + monogram_dist['coloured']*6)\n",
    "print('colored in post:', monogram_dist_post['colored'] + monogram_dist_post['coloured'])"
   ]
  },
  {
   "cell_type": "code",
   "execution_count": 37,
   "metadata": {},
   "outputs": [],
   "source": [
    "pre_size = len(tokens)\n",
    "post_size = len(tokens_post)"
   ]
  },
  {
   "cell_type": "code",
   "execution_count": 38,
   "metadata": {},
   "outputs": [
    {
     "name": "stdout",
     "output_type": "stream",
     "text": [
      "There are 666978 words in total.\n"
     ]
    }
   ],
   "source": [
    "print(\"There are\", pre_size + post_size,\"words in total.\")"
   ]
  },
  {
   "cell_type": "code",
   "execution_count": 39,
   "metadata": {},
   "outputs": [
    {
     "data": {
      "text/plain": [
       "-3.3743935058198247"
      ]
     },
     "execution_count": 39,
     "metadata": {},
     "output_type": "execute_result"
    }
   ],
   "source": [
    "log_likelihood(trigram_dist.get('in this country'), pre_size,\n",
    "               trigram_dist_post.get('in this country'), post_size)"
   ]
  },
  {
   "cell_type": "code",
   "execution_count": 40,
   "metadata": {},
   "outputs": [],
   "source": [
    "top_post = trigram_dist_post.most_common(20)"
   ]
  },
  {
   "cell_type": "code",
   "execution_count": 41,
   "metadata": {},
   "outputs": [],
   "source": [
    "top_pre = trigram_dist.most_common(20)"
   ]
  },
  {
   "cell_type": "code",
   "execution_count": 42,
   "metadata": {},
   "outputs": [],
   "source": [
    "#Let's run a keyness analysis for the top 20 most common words for each era\n",
    "#NOTE: Most of these, at least for post, are political -- which is exactly my argument."
   ]
  },
  {
   "cell_type": "markdown",
   "metadata": {},
   "source": [
    "## keyness analysis\n",
    "\n",
    "* It is now time to delve deeper than our preliminary analysis. We will engage in a keyness analysis. \n",
    "* I want to more empirically test whether nationalist and civic rhetoric increased after 1840. \n",
    "* I ran three analyses: two comparing the most common trigrams used in each corpus. Then one comparing a list of words that the literature and myself deemed politically oriented such as \"United States\" and \"vote.\"\n",
    "\n",
    "Key findings:\n",
    "* This sort of rhetoric did increase after 1840. \n",
    "* \"United\" and \"Vote\" were both more likely to appear after 1840.\n",
    "* Interestingly, \"rights\" and \"civic\" were more likely to occur before 1840. \n",
    "* \"Right,\" however, was more likely to occur after 1840.\n",
    "* Political language had a log-likelihood of 32.45527681242794 to occur post 1840."
   ]
  },
  {
   "cell_type": "markdown",
   "metadata": {},
   "source": [
    "### Compare most common trigrams from post-1840 "
   ]
  },
  {
   "cell_type": "code",
   "execution_count": 43,
   "metadata": {},
   "outputs": [
    {
     "name": "stdout",
     "output_type": "stream",
     "text": [
      "the united states358     0.65\t\t53        0.44\t 7.85\n",
      "in this country177     0.32\t\t27        0.23\t 3.37\n",
      "of the united  173     0.32\t\t21        0.18\t 7.64\n",
      "one of the     168     0.31\t\t31        0.26\t 0.81\n",
      "of the slave   140     0.26\t\t20        0.17\t 3.58\n",
      "in the united  135     0.25\t\t24        0.20\t 0.94\n",
      "the cause of   122     0.22\t\t55        0.46\t-17.72\n",
      "of the country 120     0.22\t\t17        0.14\t 3.17\n",
      "as well as     115     0.21\t\t25        0.21\t 0.00\n",
      "the people of  114     0.21\t\t54        0.45\t-19.49\n",
      "the black man  114     0.21\t\t3         0.03\t 27.60\n",
      "of the american113     0.21\t\t25        0.21\t-0.00\n",
      "he did not     108     0.20\t\t7         0.06\t 14.10\n",
      "the colored people104     0.19\t\t21        0.18\t 0.12\n",
      "the coloured people91      0.17\t\t5         0.04\t 13.96\n",
      "i do not       91      0.17\t\t9         0.08\t 6.46\n",
      "of the colored 88      0.16\t\t39        0.33\t-12.05\n",
      "the colored man88      0.16\t\t32        0.27\t-5.51\n",
      "of the free    86      0.16\t\t23        0.19\t-0.69\n",
      "of the world   86      0.16\t\t17        0.14\t 0.16\n"
     ]
    }
   ],
   "source": [
    "# run this for aall keyness keywords!!\n",
    "#the most common words for post-1840 versus those of pre-1840\n",
    "\n",
    "row_template = \"{: <15}{: <8}{:0.2f}\\t\\t{: <10}{:0.2f}\\t{: 0.2f}\"\n",
    "\n",
    "for word, freq in top_post:\n",
    "    post = freq\n",
    "    pre = trigram_dist.get(word,0)\n",
    "    norm_post = post/post_size * 1000\n",
    "    norm_pre = pre/pre_size * 1000\n",
    "\n",
    "    LL = 0 if pre==0 else log_likelihood(post, post_size, pre, pre_size)\n",
    "    print(row_template.format(word, post, norm_post, pre, norm_pre, LL))"
   ]
  },
  {
   "cell_type": "markdown",
   "metadata": {},
   "source": [
    "### Compare most common trigrams from pre-1840 "
   ]
  },
  {
   "cell_type": "code",
   "execution_count": 44,
   "metadata": {},
   "outputs": [
    {
     "name": "stdout",
     "output_type": "stream",
     "text": [
      "people of color56      0.47\t\t10        0.02\t 139.95\n",
      "the cause of   55      0.46\t\t122       0.22\t 17.72\n",
      "the people of  54      0.45\t\t114       0.21\t 19.49\n",
      "the united states53      0.44\t\t358       0.65\t-7.85\n",
      "committee of vigilance40      0.33\t\t2         0.00\t 121.95\n",
      "of the colored 39      0.33\t\t88        0.16\t 12.05\n",
      "the rights of  33      0.28\t\t79        0.14\t 8.75\n",
      "of the people  33      0.28\t\t63        0.12\t 14.66\n",
      "the colonization society32      0.27\t\t21        0.04\t 46.94\n",
      "the colored man32      0.27\t\t88        0.16\t 5.51\n",
      "one of the     31      0.26\t\t168       0.31\t-0.81\n",
      "the colored american31      0.26\t\t5         0.01\t 79.33\n",
      "in relation to 29      0.24\t\t13        0.02\t 52.68\n",
      "of the committee29      0.24\t\t6         0.01\t 69.81\n",
      "the libel suit 28      0.23\t\t0         0.00\t 0.00\n",
      "in this country27      0.23\t\t177       0.32\t-3.37\n",
      "the spirit of  26      0.22\t\t74        0.14\t 3.94\n",
      "in behalf of   26      0.22\t\t58        0.11\t 8.26\n",
      "as well as     25      0.21\t\t115       0.21\t-0.00\n",
      "of the american25      0.21\t\t113       0.21\t 0.00\n"
     ]
    }
   ],
   "source": [
    "# run this for aall keyness keywords!!\n",
    "#the most common words for pre-1840 versus those of post-1840\n",
    "row_template = \"{: <15}{: <8}{:0.2f}\\t\\t{: <10}{:0.2f}\\t{: 0.2f}\"\n",
    "\n",
    "for word, freq in top_pre:\n",
    "    pre = freq\n",
    "    post = trigram_dist_post.get(word,0)\n",
    "    norm_post = post/post_size * 1000\n",
    "    norm_pre = pre/pre_size * 1000\n",
    "\n",
    "    LL = 0 if post==0 else log_likelihood(pre, pre_size, post, post_size)\n",
    "    print(row_template.format(word, pre, norm_pre,post, norm_post,  LL))"
   ]
  },
  {
   "cell_type": "markdown",
   "metadata": {},
   "source": [
    "### Compare political  monograms in each corpus"
   ]
  },
  {
   "cell_type": "code",
   "execution_count": 45,
   "metadata": {},
   "outputs": [],
   "source": [
    "# monogram of political words\n",
    "political_words = [\"united\", \"states\", \"country\", \"nation\", \n",
    "                   \"citizen\", \"citizenship\", #\"enfranchisement\", \n",
    "                   \"right\", \"rights\", \"civil\", \"man\", \"vote\"]"
   ]
  },
  {
   "cell_type": "code",
   "execution_count": 46,
   "metadata": {},
   "outputs": [
    {
     "name": "stdout",
     "output_type": "stream",
     "text": [
      "united         492     0.90\t\t90        0.75\t 2.61\n",
      "states         866     1.58\t\t117       0.98\t 27.34\n",
      "country        1023    1.87\t\t163       1.36\t 15.50\n",
      "nation         326     0.60\t\t49        0.41\t 6.67\n",
      "citizen        94      0.17\t\t16        0.13\t 0.93\n",
      "citizenship    39      0.07\t\t0         0.00\t 0.00\n",
      "right          502     0.92\t\t75        0.63\t 10.57\n",
      "rights         423     0.77\t\t134       1.12\t-12.87\n",
      "civil          63      0.12\t\t31        0.26\t-12.15\n",
      "man            1754    3.21\t\t355       2.96\t 1.94\n",
      "vote           115     0.21\t\t5         0.04\t 21.20\n"
     ]
    }
   ],
   "source": [
    "row_template = \"{: <15}{: <8}{:0.2f}\\t\\t{: <10}{:0.2f}\\t{: 0.2f}\"\n",
    "post_total = 0\n",
    "pre_total = 0\n",
    "\n",
    "for word in political_words:\n",
    "    post = monogram_dist_post.get(word,0)\n",
    "    post_total = post_total + post\n",
    "    pre = monogram_dist.get(word,0)\n",
    "    pre_total = pre_total + pre\n",
    "    norm_post = post/post_size * 1000\n",
    "    norm_pre = pre/pre_size * 1000\n",
    "\n",
    "    LL = 0 if pre==0 else log_likelihood(post, post_size, pre, pre_size)\n",
    "    print(row_template.format(word, post, norm_post, pre, norm_pre, LL))"
   ]
  },
  {
   "cell_type": "code",
   "execution_count": 47,
   "metadata": {},
   "outputs": [
    {
     "data": {
      "text/plain": [
       "32.45527681242794"
      ]
     },
     "execution_count": 47,
     "metadata": {},
     "output_type": "execute_result"
    }
   ],
   "source": [
    "#What is the aggregate?\n",
    "\n",
    "norm_post_total = post_total/post_size*1000\n",
    "norm_pre_total =  pre_total/pre_size*1000\n",
    "\n",
    "#norm_post_total\n",
    "#norm_pre_total\n",
    "\n",
    "log_likelihood(post_total, post_size, pre_total, pre_size)"
   ]
  },
  {
   "cell_type": "code",
   "execution_count": 48,
   "metadata": {},
   "outputs": [
    {
     "name": "stdout",
     "output_type": "stream",
     "text": [
      "Political words total115     0.21\t\t5         0.04\t 21.20\n"
     ]
    }
   ],
   "source": [
    "LL_total = log_likelihood(post, post_size, pre, pre_size)\n",
    "print(row_template.format(\"Political words total\", post, norm_post, pre, norm_pre, LL))"
   ]
  },
  {
   "cell_type": "code",
   "execution_count": 49,
   "metadata": {},
   "outputs": [
    {
     "data": {
      "text/plain": [
       "collections.Counter"
      ]
     },
     "execution_count": 49,
     "metadata": {},
     "output_type": "execute_result"
    }
   ],
   "source": [
    "type(bigram_dist)"
   ]
  },
  {
   "cell_type": "code",
   "execution_count": 50,
   "metadata": {},
   "outputs": [],
   "source": [
    "#calculate_keyness(bigram_dist, bigram_dist_post)"
   ]
  },
  {
   "cell_type": "code",
   "execution_count": 51,
   "metadata": {
    "scrolled": true
   },
   "outputs": [],
   "source": [
    "#calculate_keyness(trigram_dist, trigram_dist_post)"
   ]
  },
  {
   "cell_type": "markdown",
   "metadata": {},
   "source": [
    "### KWIC for external validity\n",
    "\n",
    "* Let's better understand how each of these words are used. Do they match our assumptions and are they thus useful for our analysis?\n",
    "* I found that our assumptions hold. The use of \"United\" and \"Vote\" occurs just like we would imagine. The former refers to the \"United States\" very often and the latter to the ability to participate in democracy."
   ]
  },
  {
   "cell_type": "code",
   "execution_count": 52,
   "metadata": {},
   "outputs": [
    {
     "data": {
      "text/plain": [
       "[[['surround-', 'ing', 'the', 'united'],\n",
       "  'states',\n",
       "  ['became', 'free', 'and', 'were']],\n",
       " [['adoption', 'of', 'the', 'united'],\n",
       "  'states',\n",
       "  ['constitution;', 'they', 'voted', 'in']],\n",
       " [['president', 'of', 'the', 'united'],\n",
       "  'states',\n",
       "  ['has', 'been', 'solicited', 'by']],\n",
       " [['however', 'in', 'the', 'southern'],\n",
       "  'states',\n",
       "  ['hear', 'where', 'honest', 'labour']],\n",
       " [['even', 'in', 'the', 'free'], 'states', ['let', 'but', 'one', 'drop']],\n",
       " [['as', 'existingin', 'these', 'united'],\n",
       "  'states',\n",
       "  ['lincoln', 'as', 'manhad', 'no']],\n",
       " [['to', 'keep', 'these', 'four'],\n",
       "  'states',\n",
       "  ['loyal', 'we', 'will', 'notinterfere']],\n",
       " [['them', 'in', 'the', 'united'], 'states', ['they', 'did', 'not', 'want']],\n",
       " [['ritories', 'of', 'the', 'united'],\n",
       "  'states',\n",
       "  ['tremendous', 'cheering', 'the', 'speaker']],\n",
       " [['all', 'the', 'sixteen', 'northern'],\n",
       "  'states',\n",
       "  ['which', 'allowed', 'theblack', 'child']]]"
      ]
     },
     "execution_count": 52,
     "metadata": {},
     "output_type": "execute_result"
    }
   ],
   "source": [
    "random.seed(5) #set seed for replication\n",
    "\n",
    "#run KWIC\n",
    "\n",
    "post_states_kwic=make_kwic('states', tokens_post)\n",
    "\n",
    "sample_states_post_kwic =random.sample(post_states_kwic,10)\n",
    "\n",
    "sort_kwic(sample_states_post_kwic, order=['R1','L1'])"
   ]
  },
  {
   "cell_type": "code",
   "execution_count": 53,
   "metadata": {},
   "outputs": [
    {
     "data": {
      "text/plain": [
       "[[['you', 'support', 'by', 'your'], 'vote', ['a', 'sys-', 'tem', 'that']],\n",
       " [['two', 'brothers', 'going', 'to'],\n",
       "  'vote',\n",
       "  ['and', 'because', 'one', 'was']],\n",
       " [['real-', 'estate', 'he', 'could'],\n",
       "  'vote',\n",
       "  ['but', 'not', 'otherwisešin', 'short']],\n",
       " [['that', 'time', 'given', 'your'], 'vote', ['for', 'a', 'man', 'who']],\n",
       " [['a', 'speech', 'moved', 'a'], 'vote', ['of', 'thanks', 'to', 'the']],\n",
       " [['and', 'carried', 'unanimously', 'a'],\n",
       "  'vote',\n",
       "  ['of', 'thanks', 'to', 'the']],\n",
       " [['and', 'carried', 'unanimously', 'a'],\n",
       "  'vote',\n",
       "  ['of', 'thanks', 'to', 'the']],\n",
       " [['men', 'were', 'allowed', 'to'], 'vote', ['of', 'real', 'estate', 'in']],\n",
       " [['men', 'were', 'allowed', 'to'], 'vote', ['of', 'real', 'estate', 'in']],\n",
       " [['boxes', 'and', 'demanded', 'to'],\n",
       "  'vote',\n",
       "  ['the', 'judges', 'knowing', 'they']]]"
      ]
     },
     "execution_count": 53,
     "metadata": {},
     "output_type": "execute_result"
    }
   ],
   "source": [
    "#run KWIC\n",
    "\n",
    "post_states_kwic=make_kwic('vote', tokens_post)\n",
    "\n",
    "sample_states_post_kwic =random.sample(post_states_kwic,10)\n",
    "\n",
    "sort_kwic(sample_states_post_kwic, order=['R1','L1'])"
   ]
  },
  {
   "cell_type": "markdown",
   "metadata": {},
   "source": [
    "## Second phase of analysis: rhetoric of identification\n",
    "\n",
    "* This analysis is very similar to the one above. I create a set of words of whose frequencies I want to compare between the two corpora. This time my object is understanding of identity rhetoric increases.\n",
    "\n",
    "Key findings:\n",
    "* \"black\", \"negro\", \"colored\", and \"african\" are all more likely to occur post-1840\n",
    "* \"coloured\" is more likely to occur pre-1840\n",
    "* In total, identity rhetoric is more common in the post-1840 (log-likelihood is 145.50964421332822)"
   ]
  },
  {
   "cell_type": "code",
   "execution_count": 54,
   "metadata": {},
   "outputs": [],
   "source": [
    "# monogram of identification words\n",
    "identification_words = [\"black\", \"negro\", \"colored\", \"coloured\", \"african\"]"
   ]
  },
  {
   "cell_type": "code",
   "execution_count": 55,
   "metadata": {},
   "outputs": [
    {
     "name": "stdout",
     "output_type": "stream",
     "text": [
      "black          456     0.83\t\t26        0.22\t 67.66\n",
      "negro          390     0.71\t\t5         0.04\t 118.20\n",
      "colored        819     1.50\t\t200       1.67\t-1.81\n",
      "coloured       514     0.94\t\t17        0.14\t 111.72\n",
      "african        251     0.46\t\t13        0.11\t 40.52\n"
     ]
    }
   ],
   "source": [
    "row_template = \"{: <15}{: <8}{:0.2f}\\t\\t{: <10}{:0.2f}\\t{: 0.2f}\"\n",
    "post_total = 0\n",
    "pre_total = 0\n",
    "    \n",
    "for word in identification_words:\n",
    "    post = monogram_dist_post.get(word,0)\n",
    "    post_total = post_total + post\n",
    "    pre = monogram_dist.get(word,0)\n",
    "    pre_total = pre_total + pre\n",
    "    norm_post = post/post_size * 1000\n",
    "    norm_pre = pre/pre_size * 1000\n",
    "\n",
    "    LL = 0 if pre==0 else log_likelihood(post, post_size, pre, pre_size)\n",
    "    print(row_template.format(word, post, norm_post, pre, norm_pre, LL))"
   ]
  },
  {
   "cell_type": "code",
   "execution_count": 56,
   "metadata": {},
   "outputs": [
    {
     "name": "stdout",
     "output_type": "stream",
     "text": [
      "post_total: 2430\n",
      "pre_total: 261\n",
      "log_likelihood: 145.50964421332822\n"
     ]
    }
   ],
   "source": [
    "#What is the aggregate?\n",
    "\n",
    "norm_post_total = post_total/post_size*1000\n",
    "norm_pre_total =  pre_total/pre_size*1000\n",
    "\n",
    "#norm_post_total\n",
    "#norm_pre_total\n",
    "\n",
    "print('post_total:', post_total)\n",
    "print('pre_total:', pre_total)\n",
    "print('log_likelihood:' ,log_likelihood(post_total, post_size, pre_total, pre_size))"
   ]
  },
  {
   "cell_type": "markdown",
   "metadata": {},
   "source": [
    "### KWIC to confirm external validity of ID rhetoric results\n",
    "\n",
    "* I want to confirm that we have external validity here, as we did above. So let's pull up some random sentences with our key words to see if the words are contextualized the way we were assuming.\n",
    "* Key finding: words like \"Black\" and \"colored\" are used exactly as we would have thought. For example, \"Black man\" and \"Black population.\" "
   ]
  },
  {
   "cell_type": "code",
   "execution_count": 57,
   "metadata": {},
   "outputs": [
    {
     "name": "stdout",
     "output_type": "stream",
     "text": [
      "black | [[['and', 'powers', 'than', 'a'], 'black', ['man', 'can', 'exhibit', 'these']], [['the', 'question', 'cheers;', 'the'], 'black', ['man', 'was', 'then', 'considered']], [['the', 'execution', 'of', 'two'], 'black', ['men', 'one', 'of', 'whom']], [['callous', 'indifference', 'to', 'the'], 'black', ['population', 'however', 'cruelly', 'used']], [['patty', 'is', 'a', 'free'], 'black', ['womanﬂ', '&c', 'a', 'committee']]]\n",
      "negro | [[['distinguished', 'friend', 'of', 'the'], 'negro', ['george', 'thompson', 'enthusiastic', 'applause']], [['the', 'editor', 'of', 'a'], 'negro', ['newspaper', 'in', 'the', 'united']], [['without', 'a', 'parallel', 'even'], 'negro', ['slavery', 'horrible', 'as', 'it']], [['of', 'slavery', 'generally', 'termed'], 'negro', ['slavery', 'i', 'cannot', 'probably']], [['we', 'shall', 'begin', 'with'], 'negro', ['slavery', 'what', 'have', 'been']]]\n",
      "colored | [[['believed', 'and', 'as', 'the'], 'colored', ['american', 'informed', 'its', 'readers']], [['on', 'behalf', 'of', 'the'], 'colored', ['cit-', 'izens', 'of', 'boston']], [['and', 'credit', 'of', 'my'], 'colored', ['citizens', 'of', 'chillicothe', 'that']], [['there', 'been', 'no', 'free'], 'colored', ['people', 'and', 'did', 'not']], [['kidnappers', 'to', 'reduce', 'any'], 'colored', ['person', 'in', 'slavery:', 'how']]]\n",
      "coloured | [[['not', 'the', 'home', 'of'], 'coloured', ['man;', 'on', 'the', 'contrary']], [['the', 'views', 'which', 'the'], 'coloured', ['peo-', 'ple', 'entertain', 'relative']], [['sufficiently', 'strong', 'against', 'the'], 'coloured', ['people', 'what', 'can', 'we']], [['crimes', 'committed', 'upon', 'the'], 'coloured', ['po-', 'pulation', 'these', 'crimes']], [['country', 'of', 'the', 'free'], 'coloured', ['population', 'and', 'there', 'is']]]\n",
      "african | [[['sons', 'can', 'i', 'an'], 'african', ['be', 'mute', 'on', 'such']], [['sons', 'can', 'i', 'an'], 'african', ['be', 'mute', 'on', 'such']], [['sons', 'can', 'i', 'an'], 'african', ['be', 'mute', 'on', 'such']], [['and', 'the', 'gentile', 'the'], 'african', ['the', 'most', 'miserable', 'of']], [['and', 'the', 'gentile', 'the'], 'african', ['the', 'most', 'miserable', 'of']]]\n"
     ]
    }
   ],
   "source": [
    "#run KWIC for ID analysis in pre-1840\n",
    "\n",
    "for word in identification_words:\n",
    "\n",
    "    pre_ID_kwic=make_kwic(word, tokens)\n",
    "\n",
    "    sample_ID_pre_kwic = random.sample(pre_ID_kwic,5)\n",
    "\n",
    "    print(word, \"|\",sort_kwic(sample_ID_pre_kwic, order=['R1','L1']))\n"
   ]
  },
  {
   "cell_type": "code",
   "execution_count": 58,
   "metadata": {},
   "outputs": [
    {
     "name": "stdout",
     "output_type": "stream",
     "text": [
      "black | [[['rare', 'books', 'and', 'manuscripts'], 'black', ['abolitionist', 'archives', 'doc', 'no']], [['of', 'all', 'white', 'and'], 'black', ['and', 'it', 'is', 'not']], [['as', 'well', 'as', 'the'], 'black', ['are', 'so', 'ruthlessly', 'striken']], [['kind', 'whether', 'he', 'be'], 'black', ['as', 'night', 'or', 'white']], [['white', 'man', 'and', 'the'], 'black', ['ceasesto', 'exist', 'only', 'when']], [['of', 'freedom', 'and', 'the'], 'black', ['man', 'are', 'countrymen', 'of']], [['union', 'bayonet', 'protected', 'the'], 'black', ['man', 'his', 'heart', 'was']], [['war', 'a', 'number', 'of'], 'black', ['men', 'werefound', 'silly', 'enough']], [['have', 'passed', 'and', '200000'], 'black', ['minervas', 'fully', 'armed', 'have']], [['crushedthe', 'energies', 'of', 'the'], 'black', ['race;', 'their', 'motto', 'was']]]\n",
      "negro | [[['cost', 'has', 'made', 'the'], 'negro', ['both', 'lever', 'and', 'fulcrum']], [['and', 'muscles', 'of', 'the'], 'negro', ['hundreds', 'of', 'millions', 'of']], [['north', 'and', 'the', 'emancipated'], 'negro', ['of', 'the', 'south', 'ﬁtake']], [['fact', 'connected', 'with', 'the'], 'negro', ['racešthe', 'fact', 'of', 'universal']], [['the', 'balance', 'against', 'the'], 'negro', ['revolters', 'the', 'american', 'revolters']], [['and', 'damning', 'hell', 'of'], 'negro', ['slavery', 'speaks', 'a', 'com-']], [['helped', 'to', 'makehim', 'a'], 'negro', ['then', 'he', 'was', 'a']], [['the', 'ears', 'of', 'the'], 'negro', ['they', 'had', 'a', 'most']], [['that', 'this', 'is', 'a'], 'negro', ['war', 'and', 'that', 'emancipation']], [['but', 'by', 'thattime', 'the'], 'negro', ['will', 'have', 'passed', 'away']]]\n",
      "colored | [[['of', 'this', 'fact', 'no'], 'colored', ['man', 'can', 'consistently', 'vote']], [['that', 'justice', 'to', 'the'], 'colored', ['man', 'is', 'justice', 'to']], [['of', 'society', 'and', 'the'], 'colored', ['man', 'by', 'the', 'scum']], [['struggle', 'than', 'had', 'the'], 'colored', ['man', 'i', 'claim', 'to']], [['of', 'the', 'heroism', 'of'], 'colored', ['men', 'and', 'may', 'the']], [['qualified', 'for', 'the', 'office'], 'colored', ['men', 'will', 'be', 'promoted']], [['clusiveness;šnot', 'so', 'said', 'the'], 'colored', ['men', 'and', 'wo-', 'men;']], [['three', 'millions', 'of', 'free'], 'colored', ['people', 'would', 'give', 'a']], [['and', 'growing', 'people', 'the'], 'colored', ['people', 'have', 'demonstrated', 'their']], [['state', 'that', 'the', 'free'], 'colored', ['population', 'was', 'fast', 'emigrating']]]\n",
      "coloured | [[['bia;', 'and', 'if', 'any'], 'coloured', ['man', 'was', 'found', 'there']], [['poli-', 'tics', 'no', 'free'], 'coloured', ['man', 'being', 'allowed', 'to']], [['of', 'all', 'the', 'true'], 'coloured', ['men', 'in', 'the', 'countryi']], [['other', 'state', 'new', 'york'], 'coloured', ['men', 'were', 'allowed', 'to']], [['tion', 'of', 'the', 'free'], 'coloured', ['people', 'by', 'making', 'the']], [['the', 'expatriation', 'of', 'the'], 'coloured', ['people', 'experience', 'had', 'taught']], [['remain', 'there', 'applause', 'the'], 'coloured', ['people', 'of', 'america', 'the']], [['which', 'rests', 'upon', 'the'], 'coloured', ['people', 'of', 'this', 'country']], [['he', 'had', 'seen', 'a'], 'coloured', ['postman', 'delivering', 'letters', 'but']], [['future', 'destiny', 'of', 'the'], 'coloured', ['race', 'of', 'mankind', 'mr']]]\n",
      "african | [[['is', 'true', 'that', 'the'], 'african', ['negro', 'came', 'to', 'this']], [['worship', 'and', 'cannibal', 'war'], 'african', ['polygamy', 'and', 'its', 'love']], [['felt', 'anywhere', 'for', 'the'], 'african', ['race', 'as', 'in', 'the']], [['to', 'show', 'that', 'the'], 'african', ['race', 'origin-', 'ated', 'the']], [['to', 'show', 'that', 'the'], 'african', ['race', 'origin-', 'ated', 'the']], [['land', 'heaped', 'upon', 'the'], 'african', ['race', 'the', 'societies', 'with']], [['and', 'con-', 'tinuance', 'of'], 'african', ['slavery', 'in', 'america', 'is']], [['and', 'con-', 'tinuance', 'of'], 'african', ['slavery', 'in', 'america', 'is']], [['the', 'troubleš', 'which', 'is'], 'african', ['slaveryšas', 'now', 'being', 'fully']], [['points', 'of', 'christianity', 'the'], 'african', ['was', 'peculiarly', 'fond', 'of']]]\n"
     ]
    }
   ],
   "source": [
    "#run KWIC for ID analysis in post-1840\n",
    "\n",
    "for word in identification_words:\n",
    "\n",
    "    post_ID_kwic=make_kwic(word, tokens_post)\n",
    "\n",
    "    sample_ID_post_kwic = random.sample(post_ID_kwic,10)\n",
    "\n",
    "    print(word, \"|\",sort_kwic(sample_ID_post_kwic, order=['R1','L1']))\n"
   ]
  },
  {
   "cell_type": "markdown",
   "metadata": {},
   "source": [
    "## Third Phase of Analysis: Sentiment Analysis"
   ]
  },
  {
   "cell_type": "code",
   "execution_count": 59,
   "metadata": {},
   "outputs": [],
   "source": [
    "sid = SentimentIntensityAnalyzer()"
   ]
  },
  {
   "cell_type": "code",
   "execution_count": 60,
   "metadata": {},
   "outputs": [],
   "source": [
    "#sentiment anaalsysi for whole pre 1840 texts\n",
    "#sum([sid.lexicon.get(tok.lower(),0) for tok in tokens])/len(tokens)"
   ]
  },
  {
   "cell_type": "code",
   "execution_count": 61,
   "metadata": {
    "scrolled": true
   },
   "outputs": [],
   "source": [
    "#sentiment anaalsysi for whole post 1840 texts\n",
    "#sum([sid.lexicon.get(tok.lower(),0) for tok in tokens])/len(tokens_post)"
   ]
  },
  {
   "cell_type": "markdown",
   "metadata": {},
   "source": [
    "### Polarity tests\n",
    "\n",
    "* The goal is to better understand the sentiment of the different corpora. I want to know if one appears more demanding/aggressive than the other. I imagine this will be post 1840.\n",
    "\n",
    "\n",
    "Key findings:\n",
    "* Post-1840 has an average polarity score of 0.380679\n",
    "* Pre-1840 has an average polarity score of 0.548832\n",
    "* The difference is significant bc I ran a t test and the t value 1.96\n",
    "    "
   ]
  },
  {
   "cell_type": "code",
   "execution_count": 62,
   "metadata": {},
   "outputs": [
    {
     "name": "stdout",
     "output_type": "stream",
     "text": [
      "0.8126\n",
      "-0.4767\n"
     ]
    }
   ],
   "source": [
    "#testing out the sentiment scores\n",
    "print(sid.polarity_scores('happy happy')['compound'])\n",
    "print(sid.polarity_scores('sad')['compound'])"
   ]
  },
  {
   "cell_type": "code",
   "execution_count": 63,
   "metadata": {},
   "outputs": [
    {
     "data": {
      "text/plain": [
       "[0.9986, -0.7413, 0.9878, 0.6184, 0.9481]"
      ]
     },
     "execution_count": 63,
     "metadata": {},
     "output_type": "execute_result"
    }
   ],
   "source": [
    "# We are finding the pre 1840 PS scores\n",
    "\n",
    "pre_ps_list = []\n",
    "\n",
    "for X in range(0,len(clean_pages_pre_1840)):\n",
    "\n",
    "    test_page = clean_pages_pre_1840[X]\n",
    "    test_str = ''.join(test_page)\n",
    "    pre_ps_list.append(sid.polarity_scores(test_str)['compound'])\n",
    "    \n",
    "    \n",
    "pre_ps_list[:5]"
   ]
  },
  {
   "cell_type": "code",
   "execution_count": 64,
   "metadata": {},
   "outputs": [
    {
     "data": {
      "text/plain": [
       "0.5488318396226409"
      ]
     },
     "execution_count": 64,
     "metadata": {},
     "output_type": "execute_result"
    }
   ],
   "source": [
    "# What is the pre-1840 ps mean?\n",
    "pre_sum = 0\n",
    "for ele in pre_ps_list:\n",
    "    pre_sum += ele\n",
    "res = pre_sum / len(pre_ps_list)\n",
    "res"
   ]
  },
  {
   "cell_type": "code",
   "execution_count": 65,
   "metadata": {},
   "outputs": [
    {
     "data": {
      "text/plain": [
       "[0.9674, 0.9841, 0.9489, 0.7269, -0.8966]"
      ]
     },
     "execution_count": 65,
     "metadata": {},
     "output_type": "execute_result"
    }
   ],
   "source": [
    "# We are finding the post 1840 PS scores\n",
    "post_ps_list = []\n",
    "\n",
    "for X in range(0,len(clean_pages_post_1840)):\n",
    "\n",
    "    test_page = clean_pages_post_1840[X]\n",
    "    test_str = ''.join(test_page)\n",
    "    post_ps_list.append(sid.polarity_scores(test_str)['compound'])\n",
    "    \n",
    "    \n",
    "post_ps_list[:5]"
   ]
  },
  {
   "cell_type": "code",
   "execution_count": 66,
   "metadata": {},
   "outputs": [
    {
     "data": {
      "text/plain": [
       "0.3806785064624225"
      ]
     },
     "execution_count": 66,
     "metadata": {},
     "output_type": "execute_result"
    }
   ],
   "source": [
    "# What is the post-1840 ps mean?\n",
    "sum = 0\n",
    "for ele in post_ps_list:\n",
    "    sum += ele\n",
    "res = sum / len(post_ps_list)\n",
    "res"
   ]
  },
  {
   "cell_type": "code",
   "execution_count": 67,
   "metadata": {},
   "outputs": [
    {
     "data": {
      "text/plain": [
       "2513"
      ]
     },
     "execution_count": 67,
     "metadata": {},
     "output_type": "execute_result"
    }
   ],
   "source": [
    "#prelim work for data table\n",
    "\n",
    "all_ps_list_df = []\n",
    "\n",
    "for X in range(0,len(pre_ps_list)):\n",
    "\n",
    "    all_ps_list_df.append(pre_ps_list[X])\n",
    "\n",
    "for X in range(0,len(post_ps_list)):\n",
    "    \n",
    "    all_ps_list_df.append(post_ps_list[X])\n",
    "    \n",
    "#(len(pre_ps_list)+1)\n",
    "    #test_page = clean_pages_post_1840[X]\n",
    "    #test_str = ''.join(test_page)\n",
    "    #post_ps_list.append(sid.polarity_scores(test_str)['compound'])\n",
    "\n",
    "len(all_ps_list_df)\n",
    "\n",
    "#create binary values\n",
    "binary_values = []\n",
    "\n",
    "[binary_values.append(\"Pre-1840\") for count in clean_pages_pre_1840]  #add as many ones as pre pages\n",
    "[binary_values.append(\"Post-1840\") for count in clean_pages_post_1840] #add as many ones as post pages\n",
    "\n",
    "len(binary_values)"
   ]
  },
  {
   "cell_type": "code",
   "execution_count": 68,
   "metadata": {},
   "outputs": [
    {
     "data": {
      "text/html": [
       "<div>\n",
       "<style scoped>\n",
       "    .dataframe tbody tr th:only-of-type {\n",
       "        vertical-align: middle;\n",
       "    }\n",
       "\n",
       "    .dataframe tbody tr th {\n",
       "        vertical-align: top;\n",
       "    }\n",
       "\n",
       "    .dataframe thead th {\n",
       "        text-align: right;\n",
       "    }\n",
       "</style>\n",
       "<table border=\"1\" class=\"dataframe\">\n",
       "  <thead>\n",
       "    <tr style=\"text-align: right;\">\n",
       "      <th></th>\n",
       "      <th>Category</th>\n",
       "      <th>values</th>\n",
       "    </tr>\n",
       "  </thead>\n",
       "  <tbody>\n",
       "    <tr>\n",
       "      <th>0</th>\n",
       "      <td>Pre-1840</td>\n",
       "      <td>0.9986</td>\n",
       "    </tr>\n",
       "    <tr>\n",
       "      <th>1</th>\n",
       "      <td>Pre-1840</td>\n",
       "      <td>-0.7413</td>\n",
       "    </tr>\n",
       "    <tr>\n",
       "      <th>2</th>\n",
       "      <td>Pre-1840</td>\n",
       "      <td>0.9878</td>\n",
       "    </tr>\n",
       "    <tr>\n",
       "      <th>3</th>\n",
       "      <td>Pre-1840</td>\n",
       "      <td>0.6184</td>\n",
       "    </tr>\n",
       "    <tr>\n",
       "      <th>4</th>\n",
       "      <td>Pre-1840</td>\n",
       "      <td>0.9481</td>\n",
       "    </tr>\n",
       "    <tr>\n",
       "      <th>...</th>\n",
       "      <td>...</td>\n",
       "      <td>...</td>\n",
       "    </tr>\n",
       "    <tr>\n",
       "      <th>2508</th>\n",
       "      <td>Post-1840</td>\n",
       "      <td>-0.9809</td>\n",
       "    </tr>\n",
       "    <tr>\n",
       "      <th>2509</th>\n",
       "      <td>Post-1840</td>\n",
       "      <td>0.9385</td>\n",
       "    </tr>\n",
       "    <tr>\n",
       "      <th>2510</th>\n",
       "      <td>Post-1840</td>\n",
       "      <td>-0.1027</td>\n",
       "    </tr>\n",
       "    <tr>\n",
       "      <th>2511</th>\n",
       "      <td>Post-1840</td>\n",
       "      <td>-0.9008</td>\n",
       "    </tr>\n",
       "    <tr>\n",
       "      <th>2512</th>\n",
       "      <td>Post-1840</td>\n",
       "      <td>0.4588</td>\n",
       "    </tr>\n",
       "  </tbody>\n",
       "</table>\n",
       "<p>2513 rows × 2 columns</p>\n",
       "</div>"
      ],
      "text/plain": [
       "       Category  values\n",
       "0      Pre-1840  0.9986\n",
       "1      Pre-1840 -0.7413\n",
       "2      Pre-1840  0.9878\n",
       "3      Pre-1840  0.6184\n",
       "4      Pre-1840  0.9481\n",
       "...         ...     ...\n",
       "2508  Post-1840 -0.9809\n",
       "2509  Post-1840  0.9385\n",
       "2510  Post-1840 -0.1027\n",
       "2511  Post-1840 -0.9008\n",
       "2512  Post-1840  0.4588\n",
       "\n",
       "[2513 rows x 2 columns]"
      ]
     },
     "execution_count": 68,
     "metadata": {},
     "output_type": "execute_result"
    }
   ],
   "source": [
    "data = {'Category': binary_values,\n",
    "                'values': all_ps_list_df}\n",
    "\n",
    "data_frame = pd.DataFrame(data)\n",
    "data_frame"
   ]
  },
  {
   "cell_type": "markdown",
   "metadata": {},
   "source": [
    "### Let's try to run a t-test"
   ]
  },
  {
   "cell_type": "code",
   "execution_count": 91,
   "metadata": {},
   "outputs": [
    {
     "data": {
      "text/plain": [
       "Ttest_indResult(statistic=4.155434042863994, pvalue=3.3553338776211344e-05)"
      ]
     },
     "execution_count": 91,
     "metadata": {},
     "output_type": "execute_result"
    }
   ],
   "source": [
    "# Are you doing spot checking on this? I have to...\n",
    "\n",
    "# Need to understand/interpret these numbers.\n",
    "\n",
    "# Look at the neutral score to get a sense.\n",
    "\n",
    "# For the story, take a look at very positive ones or really negative ones. \n",
    "\n",
    "# Look at a few of them to see what is driving this.\n",
    "\n",
    "from scipy.stats import ttest_ind\n",
    "\n",
    "pre_sentiment = data_frame[data_frame['Category']=='Pre-1840']\n",
    "post_sentiment = data_frame[data_frame['Category']=='Post-1840']\n",
    "\n",
    "ttest_ind(pre_sentiment['values'], post_sentiment['values'])\n",
    "\n",
    "# Ttest_indResult(statistic=4.155434042863994, pvalue=3.3553338776211344e-05)\n",
    "#|t|≥1.96\n",
    "\n",
    "#HERE\n",
    "\n",
    "#data is signficant here because it is above 1.96 t value"
   ]
  },
  {
   "cell_type": "code",
   "execution_count": 78,
   "metadata": {},
   "outputs": [
    {
     "data": {
      "text/plain": [
       "Ttest_indResult(statistic=nan, pvalue=nan)"
      ]
     },
     "execution_count": 78,
     "metadata": {},
     "output_type": "execute_result"
    }
   ],
   "source": [
    "sttest_ind(pre_sentiment['values'], post_sentiment['values'])"
   ]
  },
  {
   "cell_type": "code",
   "execution_count": 70,
   "metadata": {},
   "outputs": [
    {
     "data": {
      "text/plain": [
       "Category\n",
       "Post-1840    0.380679\n",
       "Pre-1840     0.548832\n",
       "Name: values, dtype: float64"
      ]
     },
     "execution_count": 70,
     "metadata": {},
     "output_type": "execute_result"
    }
   ],
   "source": [
    "#find means of the differnet corupsus sentiment scores\n",
    "\n",
    "data_frame.groupby(\"Category\")['values'].mean()"
   ]
  },
  {
   "cell_type": "markdown",
   "metadata": {},
   "source": [
    "### Set up data frame for graphs\n",
    "- I want to be able to display the range of findings so the reader can better understand the numbers we are working with\n",
    "\n",
    "Key results:\n",
    "* I found, most significantly, that the results are bi-modal. Meaning, most scores fell closer to the extremes of 1 and -1, instead of closer to the middle."
   ]
  },
  {
   "cell_type": "code",
   "execution_count": 71,
   "metadata": {},
   "outputs": [
    {
     "data": {
      "text/plain": [
       "<pandas.core.groupby.generic.SeriesGroupBy object at 0x7ff6d5c6f2b0>"
      ]
     },
     "execution_count": 71,
     "metadata": {},
     "output_type": "execute_result"
    }
   ],
   "source": [
    "\n",
    "data_frame.groupby(\"Category\")['values']"
   ]
  },
  {
   "cell_type": "code",
   "execution_count": 72,
   "metadata": {},
   "outputs": [
    {
     "name": "stderr",
     "output_type": "stream",
     "text": [
      "/usr/local/anaconda3/lib/python3.7/site-packages/seaborn/distributions.py:2557: FutureWarning: `distplot` is a deprecated function and will be removed in a future version. Please adapt your code to use either `displot` (a figure-level function with similar flexibility) or `histplot` (an axes-level function for histograms).\n",
      "  warnings.warn(msg, FutureWarning)\n"
     ]
    },
    {
     "data": {
      "text/plain": [
       "<AxesSubplot:xlabel='values', ylabel='Density'>"
      ]
     },
     "execution_count": 72,
     "metadata": {},
     "output_type": "execute_result"
    },
    {
     "data": {
      "image/png": "[encoded data removed]",
      "text/plain": [
       "<Figure size 432x288 with 1 Axes>"
      ]
     },
     "metadata": {
      "needs_background": "light"
     },
     "output_type": "display_data"
    }
   ],
   "source": [
    "#shows that the sentiments are logged as pretty extreme\n",
    "sns.distplot(data_frame[\"values\"])"
   ]
  },
  {
   "cell_type": "code",
   "execution_count": 73,
   "metadata": {},
   "outputs": [
    {
     "name": "stderr",
     "output_type": "stream",
     "text": [
      "/usr/local/anaconda3/lib/python3.7/site-packages/seaborn/distributions.py:2557: FutureWarning: `distplot` is a deprecated function and will be removed in a future version. Please adapt your code to use either `displot` (a figure-level function with similar flexibility) or `histplot` (an axes-level function for histograms).\n",
      "  warnings.warn(msg, FutureWarning)\n",
      "/usr/local/anaconda3/lib/python3.7/site-packages/seaborn/distributions.py:2557: FutureWarning: `distplot` is a deprecated function and will be removed in a future version. Please adapt your code to use either `displot` (a figure-level function with similar flexibility) or `histplot` (an axes-level function for histograms).\n",
      "  warnings.warn(msg, FutureWarning)\n"
     ]
    },
    {
     "data": {
      "text/plain": [
       "<matplotlib.legend.Legend at 0x7ff6cd3284a8>"
      ]
     },
     "execution_count": 73,
     "metadata": {},
     "output_type": "execute_result"
    },
    {
     "data": {
      "image/png": "[encoded data removed]",
      "text/plain": [
       "<Figure size 432x288 with 1 Axes>"
      ]
     },
     "metadata": {
      "needs_background": "light"
     },
     "output_type": "display_data"
    }
   ],
   "source": [
    "sns.distplot(data_frame[data_frame[\"Category\"]==\"Post-1840\"][\"values\"], label = \"Post-1840\")\n",
    "sns.distplot(data_frame[data_frame[\"Category\"]==\"Pre-1840\"][\"values\"], label = \"Pre-1840\")\n",
    "plt.legend()"
   ]
  },
  {
   "cell_type": "code",
   "execution_count": 74,
   "metadata": {},
   "outputs": [
    {
     "ename": "NameError",
     "evalue": "name 'sn' is not defined",
     "output_type": "error",
     "traceback": [
      "\u001b[0;31m---------------------------------------------------------------------------\u001b[0m",
      "\u001b[0;31mNameError\u001b[0m                                 Traceback (most recent call last)",
      "\u001b[0;32m<ipython-input-74-21923a45e9eb>\u001b[0m in \u001b[0;36m<module>\u001b[0;34m()\u001b[0m\n\u001b[1;32m      1\u001b[0m \u001b[0;31m#histogram\u001b[0m\u001b[0;34m\u001b[0m\u001b[0;34m\u001b[0m\u001b[0;34m\u001b[0m\u001b[0m\n\u001b[0;32m----> 2\u001b[0;31m \u001b[0msn\u001b[0m\u001b[0;34m.\u001b[0m\u001b[0mdisplot\u001b[0m\u001b[0;34m(\u001b[0m\u001b[0mdata_frame\u001b[0m\u001b[0;34m,\u001b[0m \u001b[0mx\u001b[0m \u001b[0;34m=\u001b[0m \u001b[0;34m\"values\"\u001b[0m\u001b[0;34m,\u001b[0m \u001b[0mhue\u001b[0m \u001b[0;34m=\u001b[0m \u001b[0;34m\"Category\"\u001b[0m\u001b[0;34m)\u001b[0m\u001b[0;34m\u001b[0m\u001b[0;34m\u001b[0m\u001b[0m\n\u001b[0m",
      "\u001b[0;31mNameError\u001b[0m: name 'sn' is not defined"
     ]
    }
   ],
   "source": [
    "#histogram\n",
    "sn.displot(data_frame, x = \"values\", hue = \"Category\")"
   ]
  },
  {
   "cell_type": "code",
   "execution_count": null,
   "metadata": {},
   "outputs": [],
   "source": [
    "#estimator of the histogram\n",
    "#bimodal.\n",
    "# you have two peaks in both dsiturbitnos. Instead of a normal dist, where most of the\n",
    "#pages are netural. This highlights that there are a bunch of neutral values,\n",
    "# which the negative/pos values assume.\n",
    "\n",
    "\n",
    "# kind = kde (density), hist (histogram)\n",
    "sns.displot(data_frame, x = \"values\", hue = \"Category\", kind = \"kde\")"
   ]
  },
  {
   "cell_type": "code",
   "execution_count": null,
   "metadata": {},
   "outputs": [],
   "source": [
    "def score_page(plist):\n",
    "    ptxt = '\\n'.join(plist)\n",
    "    pscores = sid.polarity_scores(ptxt)\n",
    "    \n",
    "    # use nltk wordpunct tokenizer\n",
    "    tokens = tokenize.wordpunct_tokenize(ptxt.lower())\n",
    "    \n",
    "    \n",
    "    print('-'*40, '\\n', ptxt, '\\n', '-'*40)\n",
    "    print(pscores, '\\n')\n",
    "    \n",
    "    for i,s in sid.lexicon.items():\n",
    "        if i in tokens:\n",
    "            print(i,s)"
   ]
  },
  {
   "cell_type": "markdown",
   "metadata": {},
   "source": [
    "### Let's test our sentiment analysis for external validity\n",
    "- We will sample out a few pages that are in the extreme ranges and a few pages that are in the moderate pages. So four tests overall (extreme + and -; moderate + and -)\n",
    "- We found that the vader results are actually pretty accurate. At least more than we thought previously. Very negative results make sense as do the very positive ones when comparing with a manual analysis of each page."
   ]
  },
  {
   "cell_type": "code",
   "execution_count": null,
   "metadata": {},
   "outputs": [],
   "source": [
    "print(len(clean_pages_pre_1840))\n",
    "len(clean_pages_post_1840)\n",
    "\n",
    "#HERE!!!"
   ]
  },
  {
   "cell_type": "code",
   "execution_count": 246,
   "metadata": {},
   "outputs": [
    {
     "data": {
      "text/plain": [
       "5046"
      ]
     },
     "execution_count": 246,
     "metadata": {},
     "output_type": "execute_result"
    }
   ],
   "source": [
    "clean_pages_secure = clean_pages_pre_1840\n",
    "len(clean_pages_secure)\n"
   ]
  },
  {
   "cell_type": "code",
   "execution_count": 243,
   "metadata": {},
   "outputs": [
    {
     "data": {
      "text/plain": [
       "5046"
      ]
     },
     "execution_count": 243,
     "metadata": {},
     "output_type": "execute_result"
    }
   ],
   "source": [
    "all_pages = clean_pages_pre_1840\n",
    "range_end = len(clean_pages_post_1840)\n",
    "for X in range(0,range_end):\n",
    "    all_pages.append(clean_pages_post_1840[X])\n",
    "    \n",
    "len(clean_pages_pre_1840)"
   ]
  },
  {
   "cell_type": "code",
   "execution_count": 232,
   "metadata": {},
   "outputs": [
    {
     "name": "stdout",
     "output_type": "stream",
     "text": [
      "pre pages: 2513\n",
      "post pages: 2089\n",
      "all pages: 2513\n"
     ]
    }
   ],
   "source": [
    "all_pages = clean_pages_pre_1840\n",
    "\n",
    "for X in range(0,len(clean_pages_post_1840)):\n",
    "    all_pages.append(clean_pages_post_1840[X])\n",
    "\n",
    "print('pre pages:',len(clean_pages_pre_1840))\n",
    "print('post pages:',len(clean_pages_post_1840))\n",
    "print('all pages:',len(all_pages))\n"
   ]
  },
  {
   "cell_type": "code",
   "execution_count": 141,
   "metadata": {},
   "outputs": [
    {
     "name": "stdout",
     "output_type": "stream",
     "text": [
      "30\n",
      "33\n",
      "34\n",
      "39\n",
      "58\n",
      "66\n",
      "97\n",
      "98\n",
      "107\n",
      "110\n",
      "114\n",
      "138\n",
      "146\n",
      "153\n",
      "155\n",
      "160\n",
      "164\n",
      "181\n",
      "192\n",
      "206\n",
      "217\n",
      "229\n",
      "247\n",
      "258\n",
      "268\n",
      "269\n",
      "280\n",
      "281\n",
      "293\n",
      "295\n",
      "301\n",
      "302\n",
      "307\n",
      "329\n",
      "339\n",
      "340\n",
      "345\n",
      "350\n",
      "355\n",
      "362\n"
     ]
    }
   ],
   "source": [
    "# looking for page indices with a compound score <-0.9\n",
    "for i,p in enumerate(clean_pages_pre_1840):\n",
    "    s = sid.polarity_scores('\\n'.join(p))\n",
    "    if s['compound']<-0.9:\n",
    "        print(i)"
   ]
  },
  {
   "cell_type": "code",
   "execution_count": 144,
   "metadata": {},
   "outputs": [
    {
     "name": "stdout",
     "output_type": "stream",
     "text": [
      "---------------------------------------- \n",
      "   tion forbade the idea of their removing; and  \n",
      "\n",
      "hence in 1817, the people of color in Phila- \n",
      "\n",
      "delphia, with James Forten at their head,Š \n",
      "\n",
      "(and I envy them the honor they had in the  \n",
      "\n",
      "work in which they were engaged,) in an as- \n",
      "\n",
      "sembly of three thousand, before high hea- \n",
      "\n",
      "ven, in the presence of Almighty God, and  \n",
      "in the midst of a persecuting nation, resolv- \n",
      "ed that they never would leave the land.Š \n",
      "\n",
      "They resolved to cling to their oppressed  \n",
      "\n",
      "brethren.  They felt that every ennobling spir- \n",
      "\n",
      "it forbade their leaving them.  They resolv- \n",
      "\n",
      "ed to remain here, come what would, perse- \n",
      "\n",
      "cution or death.  They determined to grap- \n",
      "\n",
      "ple themselves to their enslaved brethren as  \n",
      "\n",
      "with hooks of steel.  My father, at Schenec- \n",
      "tady, under great anxiety, took a journey to  \n",
      "Philadelphia, to investigate the subject.Š \n",
      "\n",
      "This was the spirit to which prevailed among  \n",
      "\n",
      "the people of color, and it extended to every  \n",
      "\n",
      "considerable place in the north, and as far  \n",
      "\n",
      "south as Washington and Baltimore.  They  \n",
      "\n",
      "lifted up their voice and said, this is my  \n",
      "\n",
      "country, here I was born, here I have toiled  \n",
      "\n",
      "and suffered, and here will I die.  Sir, it  \n",
      "was a dark period.  Although they were  \n",
      "unanimous, and expressed their opinions,  \n",
      "\n",
      "they could not gain access to the public  \n",
      "\n",
      "mind; for the press would not communicate  \n",
      "\n",
      "the facts in the caseŠit was silent.  In the  \n",
      "\n",
      "city of New-York, after a large meeting,  \n",
      "\n",
      "where protests were drawn up against the \n",
      " ----------------------------------------\n",
      "{'neg': 0.105, 'neu': 0.834, 'pos': 0.062, 'compound': -0.9086} \n",
      "\n",
      "anxiety -0.7\n",
      "death -2.9\n",
      "determined 1.4\n",
      "die -2.9\n",
      "engaged 1.7\n",
      "enslaved -1.7\n",
      "envy -1.1\n",
      "gain 2.4\n",
      "god 1.1\n",
      "great 3.1\n",
      "honor 2.2\n",
      "leave -0.2\n",
      "oppressed -2.1\n",
      "persecuting -1.5\n",
      "protests -0.9\n",
      "resolved 0.7\n",
      "spirit 0.7\n",
      "suffered -2.2\n"
     ]
    }
   ],
   "source": [
    "#let's test out a few of these\n",
    "#extreme pages to see if there is external validity\n",
    "\n",
    "score_page(clean_pages_pre_1840[362])"
   ]
  },
  {
   "cell_type": "code",
   "execution_count": 181,
   "metadata": {},
   "outputs": [
    {
     "name": "stdout",
     "output_type": "stream",
     "text": [
      "---------------------------------------- \n",
      "     The Rev. N. Paul came forward to move  \n",
      "the next resolution.  It was scarcely neces- \n",
      "\n",
      "sary, he said, to detain the meeting by any  \n",
      "\n",
      "remarks of his, after the able report which  \n",
      "\n",
      "they had heard, but nevertheless as a native  \n",
      "of the United States, and intimately con- \n",
      "nected with the slave population of that  \n",
      "\n",
      "country as a man of color, he would take the  \n",
      "\n",
      "liberty of addressing a few words to them.   \n",
      "\n",
      "Having read the resolution, Mr. Paul pro- \n",
      "\n",
      "ceeded to say, in regard to the first proposi- \n",
      "\n",
      "tion contained in it, that it was self-evident  \n",
      "\n",
      "that in order to put an end to the traffic in  \n",
      "\n",
      "slaves, slavery itself must be abolished.   \n",
      "The husbandman who was engaged in cul- \n",
      "tivating his fields would cease his employ- \n",
      "\n",
      "ment were there no market for its produce;  \n",
      "\n",
      "the manufacturer would at once stop his  \n",
      "\n",
      "machinery and dismiss his workmen were  \n",
      "\n",
      "the market for his manufactures to be block- \n",
      "\n",
      "ed up; and in like manner, were slavery  \n",
      "\n",
      "completely abolished, the trade in slaves  \n",
      "\n",
      "would fall with it.  He would not dwell on  \n",
      "the horrors of slavery as it existed in Ameri- \n",
      "ca, although he had witnessed its effects,  \n",
      "\n",
      "and to a certain extent felt them.  He had  \n",
      "\n",
      "never been a slave himself, but his father  \n",
      "\n",
      "had, and as a man of color he had suffered  \n",
      "\n",
      "under slavery™s baneful influence.  But he  \n",
      "\n",
      "would not touch on this part of the subject;  \n",
      "\n",
      "he would confine himself to the obstacles  \n",
      "\n",
      "which presented themselves in the way of \n",
      " ----------------------------------------\n",
      "{'neg': 0.156, 'neu': 0.783, 'pos': 0.061, 'compound': -0.9849} \n",
      "\n",
      "block -1.9\n",
      "certain 1.1\n",
      "detain -1.8\n",
      "dwell 0.5\n",
      "engaged 1.7\n",
      "horrors -2.7\n",
      "liberty 2.4\n",
      "like 1.5\n",
      "no -1.2\n",
      "obstacles -1.6\n",
      "slavery -3.8\n",
      "stop -1.2\n",
      "suffered -2.2\n",
      "united 1.8\n"
     ]
    }
   ],
   "source": [
    "#let's test out a few of these\n",
    "#extreme pages to see if there is external validity\n",
    "\n",
    "score_page(clean_pages_pre_1840[153])"
   ]
  },
  {
   "cell_type": "code",
   "execution_count": 182,
   "metadata": {},
   "outputs": [
    {
     "name": "stdout",
     "output_type": "stream",
     "text": [
      "0\n",
      "2\n",
      "4\n",
      "5\n",
      "6\n",
      "8\n",
      "10\n",
      "11\n",
      "12\n",
      "13\n",
      "14\n",
      "15\n",
      "16\n",
      "19\n",
      "20\n",
      "22\n",
      "24\n",
      "27\n",
      "32\n",
      "35\n",
      "36\n",
      "37\n",
      "38\n",
      "40\n",
      "41\n",
      "42\n",
      "43\n",
      "45\n",
      "46\n",
      "47\n",
      "48\n",
      "50\n",
      "51\n",
      "52\n",
      "53\n",
      "54\n",
      "55\n",
      "56\n",
      "57\n",
      "59\n",
      "62\n",
      "63\n",
      "64\n",
      "67\n",
      "68\n",
      "69\n",
      "70\n",
      "71\n",
      "72\n",
      "73\n",
      "75\n",
      "77\n",
      "79\n",
      "80\n",
      "82\n",
      "84\n",
      "85\n",
      "86\n",
      "87\n",
      "88\n",
      "89\n",
      "90\n",
      "91\n",
      "92\n",
      "94\n",
      "95\n",
      "101\n",
      "102\n",
      "104\n",
      "106\n",
      "108\n",
      "109\n",
      "112\n",
      "116\n",
      "117\n",
      "118\n",
      "119\n",
      "120\n",
      "121\n",
      "122\n",
      "123\n",
      "124\n",
      "125\n",
      "126\n",
      "127\n",
      "129\n",
      "131\n",
      "133\n",
      "134\n",
      "136\n",
      "137\n",
      "139\n",
      "140\n",
      "141\n",
      "142\n",
      "144\n",
      "148\n",
      "151\n",
      "152\n",
      "161\n",
      "165\n",
      "166\n",
      "167\n",
      "168\n",
      "172\n",
      "174\n",
      "175\n",
      "177\n",
      "178\n",
      "179\n",
      "180\n",
      "188\n",
      "189\n",
      "196\n",
      "199\n",
      "200\n",
      "202\n",
      "203\n",
      "204\n",
      "205\n",
      "213\n",
      "214\n",
      "221\n",
      "224\n",
      "225\n",
      "226\n",
      "227\n",
      "228\n",
      "230\n",
      "231\n",
      "233\n",
      "234\n",
      "236\n",
      "240\n",
      "241\n",
      "242\n",
      "243\n",
      "245\n",
      "246\n",
      "248\n",
      "250\n",
      "251\n",
      "252\n",
      "253\n",
      "254\n",
      "255\n",
      "256\n",
      "257\n",
      "259\n",
      "261\n",
      "262\n",
      "263\n",
      "264\n",
      "265\n",
      "267\n",
      "271\n",
      "273\n",
      "274\n",
      "275\n",
      "276\n",
      "277\n",
      "279\n",
      "283\n",
      "285\n",
      "286\n",
      "287\n",
      "288\n",
      "289\n",
      "290\n",
      "294\n",
      "296\n",
      "297\n",
      "299\n",
      "300\n",
      "303\n",
      "304\n",
      "305\n",
      "306\n",
      "308\n",
      "309\n",
      "310\n",
      "311\n",
      "312\n",
      "313\n",
      "314\n",
      "315\n",
      "316\n",
      "317\n",
      "318\n",
      "320\n",
      "321\n",
      "322\n",
      "323\n",
      "324\n",
      "326\n",
      "333\n",
      "335\n",
      "342\n",
      "343\n",
      "344\n",
      "358\n",
      "360\n",
      "361\n",
      "364\n",
      "365\n",
      "366\n",
      "367\n",
      "368\n",
      "370\n",
      "372\n",
      "374\n",
      "375\n",
      "376\n",
      "378\n",
      "380\n",
      "381\n",
      "382\n",
      "383\n",
      "384\n",
      "385\n",
      "386\n",
      "388\n",
      "390\n",
      "392\n",
      "393\n",
      "394\n",
      "396\n",
      "398\n",
      "399\n",
      "400\n",
      "401\n",
      "402\n",
      "403\n",
      "404\n",
      "406\n",
      "408\n",
      "410\n",
      "411\n",
      "412\n",
      "414\n",
      "416\n",
      "417\n",
      "418\n",
      "419\n",
      "420\n",
      "421\n",
      "422\n"
     ]
    }
   ],
   "source": [
    "# looking for page indices with a compound score >0.9\n",
    "for i,p in enumerate(clean_pages_pre_1840):\n",
    "    s = sid.polarity_scores('\\n'.join(p))\n",
    "    if s['compound']>0.9:\n",
    "        print(i)"
   ]
  },
  {
   "cell_type": "code",
   "execution_count": 184,
   "metadata": {},
   "outputs": [
    {
     "name": "stdout",
     "output_type": "stream",
     "text": [
      "---------------------------------------- \n",
      "     Since we have been brought out of darkness into  \n",
      "light, we discover something ahead that we have not  \n",
      "yet come up to.  It is that which is spoken of in the  \n",
      "\n",
      "Declaration of Independence that 'all men are born  \n",
      "\n",
      "free and equal;' but the sons of Africa are denied  \n",
      "this freedom and equality, \n",
      "and, of course, are not  \n",
      "men, but rather compared to baboons or some other  \n",
      "\n",
      "dumb beasts.  But if we are men, and entitled to the  \n",
      "\n",
      "rights of men, we would ask the people of this re- \n",
      "\n",
      "public whether we must fight for liberty in America,  \n",
      "and go to Africa to possess it?  If so, we would have  \n",
      "but little faith in such a warfare.  What recompense  \n",
      "\n",
      "did the blacks get in fighting for liberty in the war  \n",
      "of the revolution?  I think the answer may be \n",
      "  'Why, the negroes were recommended for their  \n",
      "bravery.' \n",
      "  We perceive that a majority of the whites have  \n",
      "an earnest desire for the removal of the blacks to  \n",
      "\n",
      "Liberia, where they will be out of sight; and we  \n",
      "\n",
      "find that some of the most faithful christians (pretend- \n",
      "edly) in the United States are to be found in the  \n",
      "Colonization Society.  We would ask those coloni- \n",
      "\n",
      "zation christians, in what book they have been seek- \n",
      "\n",
      "ing their religion?  Is there any part of Scripture  \n",
      "\n",
      "that authorises a christian to advise his neighbor to go  \n",
      "out of his own country to an unknown land, when he  \n",
      "knows it will be an injury to him, because he has a  \n",
      "\n",
      "darker skin than he has?  Is there no charity in \n",
      " ----------------------------------------\n",
      "{'neg': 0.098, 'neu': 0.753, 'pos': 0.149, 'compound': 0.9584} \n",
      "\n",
      "bravery 2.2\n",
      "charity 1.8\n",
      "darkness -1.0\n",
      "denied -1.9\n",
      "desire 1.7\n",
      "dumb -2.3\n",
      "earnest 2.3\n",
      "entitled 1.1\n",
      "faith 1.8\n",
      "faithful 1.9\n",
      "fight -1.6\n",
      "fighting -1.5\n",
      "free 2.3\n",
      "freedom 3.2\n",
      "injury -1.8\n",
      "liberty 2.4\n",
      "no -1.2\n",
      "pretend -0.4\n",
      "recommended 0.8\n",
      "united 1.8\n",
      "war -2.9\n",
      "warfare -1.2\n"
     ]
    }
   ],
   "source": [
    "score_page(clean_pages_pre_1840[416])"
   ]
  },
  {
   "cell_type": "code",
   "execution_count": 183,
   "metadata": {},
   "outputs": [
    {
     "name": "stdout",
     "output_type": "stream",
     "text": [
      "---------------------------------------- \n",
      "     Mr. Chairman, the ladies of this Society have request- \n",
      "ed me to read their Annual Report; but previous to  \n",
      "\n",
      "complying with their desire, I would ask the liberty to  \n",
      "\n",
      "make a few remarks upon a subject which is considered  \n",
      "\n",
      "as an attribute, is one of the most prominent in the char- \n",
      "\n",
      "acter of God, and is daily sung by angels.  But as great  \n",
      "\n",
      "as it is, man is permitted to take it up, and proclaim its  \n",
      "\n",
      "merits.  It concerns all mankind, and it cannot be neg- \n",
      "lected without disregarding the happiness of our fellow  \n",
      "creatures, and stifling that natural feeling which we sus- \n",
      "\n",
      "tain to each other.  My theme is \n",
      "Charity\n",
      "; and the fact  \n",
      "alone, that it is such a distinguished attribute of God, and  \n",
      "\n",
      "that angels love and admire it, is sufficient to bespeak it a  \n",
      "\n",
      "favorable hearing on this occasion.   \n",
      "   ﬁMy country is the world \n",
      " my countrymen are all  \n",
      "mankind,ﬂ is the motto of the fearless champion of Am- \n",
      "erican liberty; and none but the truly great minds are capa- \n",
      "ble of conceiving such a thought; \n",
      " none but purely  \n",
      "benevolent hearts can adopt and appreciate such a  \n",
      "sentiment. \n",
      "   It matters not what may be the creed, color, or condi- \n",
      "tion of a man \n",
      " the individual possessing the principles  \n",
      "embodied in the noble sentiment, recognizes in him the  \n",
      "features of a brother.  There is no room in his bosom  \n",
      "for sectarianism \n",
      " the Jew and the Gentile, the African,  \n",
      "the most miserable of Eastern India, the vassal sufferers  \n",
      "of Europe, and the native sons of our own forests, claim  \n",
      "\n",
      "alike his sympathies.  The whole habitable earth he  \n",
      "\n",
      "considers his country.  His noble soul drinks in the joys  \n",
      "\n",
      "of all mankind, and though he may dwell amid the burn- \n",
      "\n",
      "ing sands of Shaharee, or wander over the frozen hills of  \n",
      "\n",
      "[Lapland], yet his soul partakes of all the happiness that  \n",
      "smiles over the glens and green heaths of Scotland, or \n",
      " ----------------------------------------\n",
      "{'neg': 0.074, 'neu': 0.688, 'pos': 0.237, 'compound': 0.9967} \n",
      "\n",
      "admire 2.1\n",
      "adopt 0.7\n",
      "alone -1.0\n",
      "appreciate 1.7\n",
      "benevolent 2.7\n",
      "champion 2.9\n",
      "charity 1.8\n",
      "desire 1.7\n",
      "disregarding -0.9\n",
      "dwell 0.5\n",
      "favorable 2.1\n",
      "fearless 1.9\n",
      "feeling 0.5\n",
      "god 1.1\n",
      "great 3.1\n",
      "happiness 2.6\n",
      "joys 2.2\n",
      "liberty 2.4\n",
      "love 3.2\n",
      "matters 0.1\n",
      "merits 1.7\n",
      "miserable -2.2\n",
      "natural 1.5\n",
      "no -1.2\n",
      "noble 2.0\n",
      "prominent 1.3\n",
      "smiles 2.1\n",
      "sufferers -2.4\n",
      "truly 1.9\n"
     ]
    }
   ],
   "source": [
    "score_page(clean_pages_pre_1840[75])"
   ]
  },
  {
   "cell_type": "code",
   "execution_count": 186,
   "metadata": {},
   "outputs": [
    {
     "name": "stdout",
     "output_type": "stream",
     "text": [
      "49\n",
      "145\n",
      "183\n",
      "208\n",
      "353\n"
     ]
    }
   ],
   "source": [
    "# looking for page indices with a moderate \n",
    "# negative compound score \n",
    "for i,p in enumerate(clean_pages_pre_1840):\n",
    "    s = sid.polarity_scores('\\n'.join(p))\n",
    "    if s['compound']>-.4:\n",
    "        if s['compound']<0:\n",
    "            print(i)\n",
    "        \n",
    "#let's test out a few of these\n",
    "#extreme pages to see if there is external validity\n",
    "\n"
   ]
  },
  {
   "cell_type": "code",
   "execution_count": 191,
   "metadata": {},
   "outputs": [
    {
     "name": "stdout",
     "output_type": "stream",
     "text": [
      "---------------------------------------- \n",
      "    their political rights.  This was shown by Mr. \n",
      "\n",
      "Yates, in his statements respecting their legal dis- \n",
      "\n",
      "abilities.  It was shown that they were deprived,  \n",
      "\n",
      "even in this state, of the right to trial by jury.  He  \n",
      "who address you might be arrested to-night, and,  \n",
      "brought before the magistrates of this city; and  \n",
      "\n",
      "if arrested as a slave, would not be allowed a trial  \n",
      "\n",
      "by jury. \n",
      "\n",
      "   This prejudice also disfranchises a man of color, \n",
      "takes from him the right of choosing his rulers.\n",
      " Had we time, we might dwell upon another class \n",
      "of disabilities thrown upon the man of color.  It \n",
      "\n",
      "imposes innumerable, and almost insurmountable \n",
      "\n",
      "obstacles to his obtaining a livelihood.  It deprives \n",
      "\n",
      "him of acquiring the mechanic arts.  The difficulty \n",
      "\n",
      "of colored young men in acquiring the knowledge of  \n",
      "\n",
      "trades, and after they have acquired the knowledge \n",
      "\n",
      "of trades of getting employment, is manifest.  It is \n",
      "\n",
      "well known that there is a monopoly here, so great \n",
      "a monopoly that men of color cannot enjoy these \n",
      "privileges, or if they do, with great difficulty.\n",
      " From most of the usual occupations in society, \n",
      "they are excluded.  They are not employed as \n",
      "\n",
      "clerks, no matter what may be their talents or \n",
      "\n",
      "skill.  They are also deprived of the privileges of \n",
      "education.  Every person who is acquainted with \n",
      "the subject knows perfectly well, that throughout \n",
      "\n",
      "this whole state colored children are excluded from \n",
      "\n",
      "common schools.  In such places as Schenectady, \n",
      "\n",
      "Poughkeepsie, and Catskill, and all these large \n",
      "\n",
      "places, colored parents train up their children un- \n",
      "\n",
      "der great disadvantages, in respect to education. \n",
      "\n",
      "From colleges they have been entirely excluded, \n",
      " ----------------------------------------\n",
      "{'neg': 0.146, 'neu': 0.723, 'pos': 0.131, 'compound': -0.1764} \n",
      "\n",
      "abilities 1.0\n",
      "arrested -2.1\n",
      "deprived -2.1\n",
      "deprives -1.7\n",
      "difficulty -1.4\n",
      "disadvantages -1.7\n",
      "dwell 0.5\n",
      "enjoy 2.2\n",
      "excluded -1.4\n",
      "great 3.1\n",
      "imposes -0.4\n",
      "legal 0.5\n",
      "livelihood 0.8\n",
      "matter 0.1\n",
      "no -1.2\n",
      "obstacles -1.6\n",
      "perfectly 3.2\n",
      "prejudice -2.3\n",
      "privileges 1.6\n",
      "respect 2.1\n",
      "respecting 2.2\n",
      "talents 2.0\n",
      "well 1.1\n"
     ]
    }
   ],
   "source": [
    "score_page(clean_pages_pre_1840[353])"
   ]
  },
  {
   "cell_type": "code",
   "execution_count": 190,
   "metadata": {},
   "outputs": [
    {
     "name": "stdout",
     "output_type": "stream",
     "text": [
      "---------------------------------------- \n",
      " was to be executed on the following Friday, for having  \n",
      "given a slave a free pass.  (Shame, shame.)  Mr. Thompson  \n",
      "\n",
      "had given them an account of some bad slaveholders; he  \n",
      "\n",
      "(Mr. R.) would tell them of some good ones.  A master  \n",
      "\n",
      "with whom he once lived, Mr. Beveridge, in travelling  \n",
      "from Apalache to Columbia, having to pass through the  \n",
      "Indian nations, it was necessary for him to take arms.  He  \n",
      "\n",
      "was taken exceedingly ill, and could neither stand up nor  \n",
      "\n",
      "sit down.  He had a truck with him containing 20,000 dol- \n",
      "\n",
      "lars, and he (Mr. R.) took the pistols and protected his  \n",
      "\n",
      "master and his master™s property.  When he arrived at  \n",
      "\n",
      "Columbia, his master becoming embarrassed in circum- \n",
      "\n",
      "stances, sold him on a block; that was his kindness to him  \n",
      "\n",
      "(Mr. R.) for saving his master™s life and protecting his  \n",
      "property.  Another good master was Colonel M™Gillion, a  \n",
      "Scotchman, who held about 300 slaves, and who used to  \n",
      "\n",
      "boast that he never flogged them.  His mode of punishing  \n",
      "\n",
      "them was to get a rice hogshead, into which several nails  \n",
      "\n",
      "were driven about a quarter of an inch through, and the  \n",
      "\n",
      "slaves then being fasten in, he used to roll them down a  \n",
      "\n",
      "very steep hill.  (Shame, shame.)  At one of the Revival  \n",
      "\n",
      "meetings, (of which he had heard so much since he came  \n",
      "\n",
      "to this country,) two ladies of colour came in and took  \n",
      "their seats in the pew for inquirers.  Holding down their  \n",
      "heads, they were not observed; but some ladies coming in,  \n",
      "\n",
      "and noticing their colour, left the pew directly.  (Hear,  \n",
      "\n",
      "hear.) \n",
      " ----------------------------------------\n",
      "{'neg': 0.038, 'neu': 0.924, 'pos': 0.038, 'compound': -0.0387} \n",
      "\n",
      "bad -2.5\n",
      "block -1.9\n",
      "embarrassed -1.5\n",
      "free 2.3\n",
      "good 1.9\n",
      "ill -1.8\n",
      "kindness 2.0\n",
      "protected 1.9\n",
      "punishing -2.6\n",
      "shame -2.1\n"
     ]
    }
   ],
   "source": [
    "score_page(clean_pages_pre_1840[183])"
   ]
  },
  {
   "cell_type": "code",
   "execution_count": 187,
   "metadata": {},
   "outputs": [
    {
     "name": "stdout",
     "output_type": "stream",
     "text": [
      "28\n",
      "93\n",
      "132\n",
      "149\n",
      "169\n",
      "190\n",
      "194\n",
      "215\n",
      "219\n",
      "239\n",
      "266\n",
      "278\n",
      "319\n",
      "332\n",
      "351\n"
     ]
    }
   ],
   "source": [
    "# looking for page indices with a moderate \n",
    "# positive compound score \n",
    "for i,p in enumerate(clean_pages_pre_1840):\n",
    "    s = sid.polarity_scores('\\n'.join(p))\n",
    "    if s['compound']<.4:\n",
    "        if s['compound']>0:\n",
    "            print(i)\n",
    "        \n",
    "#let's test out a few of these\n",
    "#extreme pages to see if there is external validity\n",
    "\n"
   ]
  },
  {
   "cell_type": "code",
   "execution_count": 189,
   "metadata": {},
   "outputs": [
    {
     "name": "stdout",
     "output_type": "stream",
     "text": [
      "---------------------------------------- \n",
      "    holy rays of the star of Bethlehem are filling the  \n",
      "\n",
      "world with light and glory.  Ethiopia is stretching  \n",
      "\n",
      "her hands unto God.  Wasting and destruction shall  \n",
      "\n",
      "shortly no more be heard--but peace and good-will  \n",
      "\n",
      "to mankind fill every heart. \n",
      " ----------------------------------------\n",
      "{'neg': 0.169, 'neu': 0.648, 'pos': 0.184, 'compound': 0.1935} \n",
      "\n",
      "destruction -2.7\n",
      "glory 2.5\n",
      "god 1.1\n",
      "good 1.9\n",
      "no -1.2\n",
      "peace 2.5\n",
      "wasting -1.7\n"
     ]
    }
   ],
   "source": [
    "score_page(clean_pages_pre_1840[132])"
   ]
  },
  {
   "cell_type": "code",
   "execution_count": 188,
   "metadata": {},
   "outputs": [
    {
     "name": "stdout",
     "output_type": "stream",
     "text": [
      "---------------------------------------- \n",
      "  despots and American slaveholders only fear Š \n",
      "but which the \n",
      "peopl e\n",
      "Š the abused and down trod- \n",
      "den of all colors and climes, reverence and love. \n",
      " ----------------------------------------\n",
      "{'neg': 0.196, 'neu': 0.63, 'pos': 0.174, 'compound': 0.0644} \n",
      "\n",
      "abused -2.3\n",
      "fear -2.2\n",
      "love 3.2\n"
     ]
    }
   ],
   "source": [
    "score_page(clean_pages_pre_1840[351])"
   ]
  },
  {
   "cell_type": "code",
   "execution_count": null,
   "metadata": {},
   "outputs": [],
   "source": []
  }
 ],
 "metadata": {
  "kernelspec": {
   "display_name": "Python 3",
   "language": "python",
   "name": "python3"
  },
  "language_info": {
   "codemirror_mode": {
    "name": "ipython",
    "version": 3
   },
   "file_extension": ".py",
   "mimetype": "text/x-python",
   "name": "python",
   "nbconvert_exporter": "python",
   "pygments_lexer": "ipython3",
   "version": "3.7.3"
  }
 },
 "nbformat": 4,
 "nbformat_minor": 2
}
